{
 "cells": [
  {
   "cell_type": "markdown",
   "id": "7ec45b73-1b64-4f3d-bb60-4ade6c6959ab",
   "metadata": {},
   "source": [
    "# 1. IMPORTS"
   ]
  },
  {
   "cell_type": "code",
   "execution_count": 1,
   "id": "436bbfff-f79d-4275-b1e3-a1778c48c958",
   "metadata": {},
   "outputs": [],
   "source": [
    "import numpy as np\n",
    "from sklearn import model_selection\n",
    "from sklearn import datasets\n",
    "from sklearn import tree\n",
    "from sklearn import metrics\n",
    "from matplotlib import pyplot as plt"
   ]
  },
  {
   "cell_type": "markdown",
   "id": "54271a19-4601-49ed-8e1c-c3189851ec65",
   "metadata": {},
   "source": [
    "# 2. LOAD DATA"
   ]
  },
  {
   "cell_type": "code",
   "execution_count": 2,
   "id": "6c462ebb-cdc6-41c8-a51b-4d3818a26b20",
   "metadata": {},
   "outputs": [],
   "source": [
    "# Create artificial data to make regression\n",
    "X, y = datasets.make_regression(n_samples=150, n_features=4, random_state=0)\n",
    "\n",
    "# Train/test split\n",
    "X_train, X_test, y_train, y_test = model_selection.train_test_split(X, y, test_size=0.2, random_state=0)"
   ]
  },
  {
   "cell_type": "markdown",
   "id": "3a28cbe5-88fe-497c-af37-4f606465428f",
   "metadata": {},
   "source": [
    "# 3. TRAIN DATA"
   ]
  },
  {
   "cell_type": "markdown",
   "id": "1cd5d1ea-c194-413d-9738-85be090e8d97",
   "metadata": {},
   "source": [
    "## 3.1 No Fine Tunning"
   ]
  },
  {
   "cell_type": "code",
   "execution_count": 3,
   "id": "e1637ccf-576a-480f-afb0-e0777bb403fb",
   "metadata": {},
   "outputs": [
    {
     "name": "stdout",
     "output_type": "stream",
     "text": [
      "MSE: 2922.8925029152906\n",
      "RMSE: 54.063781803674175\n"
     ]
    }
   ],
   "source": [
    "# Define\n",
    "model1 = tree.DecisionTreeRegressor(random_state=0, max_depth=15)\n",
    "\n",
    "# Train\n",
    "model1.fit(X_train, y_train)\n",
    "\n",
    "# Performance\n",
    "yhat = model1.predict(X_test)\n",
    "\n",
    "# Results\n",
    "mse = metrics.mean_squared_error(y_test, yhat)\n",
    "rmse = np.sqrt(mse)\n",
    "\n",
    "print('MSE: {}'.format(mse))\n",
    "print('RMSE: {}'.format(rmse))"
   ]
  },
  {
   "cell_type": "code",
   "execution_count": 4,
   "id": "7893f517-f325-4344-8334-5a2b07afdd9f",
   "metadata": {},
   "outputs": [],
   "source": [
    "# How the tree splitted\n",
    "#plt.figure(figsize=(19, 13))\n",
    "#tree.plot_tree(model1, filled=True, rounded=True)\n",
    "\n",
    "# Save plot\n",
    "#plt.savefig('reg_tree', dpi=1000);"
   ]
  },
  {
   "cell_type": "markdown",
   "id": "c5bf3499-e0ff-4341-af01-3c6b6f1750b9",
   "metadata": {},
   "source": [
    "# 3.2 With Fine Tunning"
   ]
  },
  {
   "cell_type": "code",
   "execution_count": 5,
   "id": "df8fd2a3-c3e6-4e12-8282-621826807933",
   "metadata": {},
   "outputs": [],
   "source": [
    "# Create artificial data\n",
    "X, y = datasets.make_regression(n_samples=1000, n_features=3, random_state=1)\n",
    "\n",
    "# Train/Test split\n",
    "X_train, X_test, y_train, y_test = model_selection.train_test_split(X, y, test_size=0.2)\n",
    "\n",
    "# Train/Validation split\n",
    "X_train, X_val, y_train, y_val = model_selection.train_test_split(X_train, y_train, test_size=0.2)"
   ]
  },
  {
   "cell_type": "code",
   "execution_count": 6,
   "id": "e0e09333-e4c3-49d6-aa16-a7f2ae5222f8",
   "metadata": {},
   "outputs": [],
   "source": [
    "# Create a range of values to be tested on the parameter max depth\n",
    "values = list(range(1, 20))\n",
    "\n",
    "# Create an empty list to receive the error for each value of 1\n",
    "rmse_values = []\n",
    "\n",
    "for i in values:\n",
    "\n",
    "    # Define\n",
    "    model2 = tree.DecisionTreeRegressor(max_depth=i, random_state=1)\n",
    "\n",
    "    # Train\n",
    "    model2.fit(X_train, y_train)\n",
    "\n",
    "    # Perforance\n",
    "    yhat = model2.predict(X_val)\n",
    "    mse = metrics.mean_squared_error(y_val, yhat)\n",
    "    rmse = np.sqrt(mse)\n",
    "\n",
    "    rmse_values.append(rmse)"
   ]
  },
  {
   "cell_type": "code",
   "execution_count": 7,
   "id": "321834c9-bf50-497e-894b-96a7fa2a3c3c",
   "metadata": {},
   "outputs": [
    {
     "data": {
      "image/png": "[encoded data removed]",
      "text/plain": [
       "<Figure size 640x480 with 1 Axes>"
      ]
     },
     "metadata": {},
     "output_type": "display_data"
    }
   ],
   "source": [
    "# Plot the result\n",
    "plt.plot(values, rmse_values, marker='.', c='r')\n",
    "plt.xlabel('max depth')\n",
    "plt.xlabel('rmse')\n",
    "plt.show()"
   ]
  },
  {
   "cell_type": "code",
   "execution_count": 8,
   "id": "1e85fa74-4475-44ea-af96-42af7b4259dc",
   "metadata": {},
   "outputs": [
    {
     "name": "stdout",
     "output_type": "stream",
     "text": [
      "The value that brings the minimum error is: 12, and the value is: 48.32\n"
     ]
    }
   ],
   "source": [
    "# value for minimum error\n",
    "min_ = min(rmse_values)\n",
    "print(f'The value that brings the minimum error is: {rmse_values.index(min_)+1}, and the value is: {round(min_, 2)}')"
   ]
  },
  {
   "cell_type": "code",
   "execution_count": 9,
   "id": "08924858-869c-4623-a76f-7a684d73f1c3",
   "metadata": {},
   "outputs": [],
   "source": [
    "# Concat train and validation\n",
    "X_train = np.concatenate((X_train, X_val))\n",
    "y_train = np.concatenate((y_train, y_val))"
   ]
  },
  {
   "cell_type": "code",
   "execution_count": 10,
   "id": "1f46f24f-f81c-453a-bcaf-11456b406e7d",
   "metadata": {},
   "outputs": [
    {
     "name": "stdout",
     "output_type": "stream",
     "text": [
      "MSE: 2441.8629561530365\n",
      "RMSE: 49.41520976534488\n"
     ]
    }
   ],
   "source": [
    "# Create model with best value for max depth\n",
    "model2_prod = tree.DecisionTreeRegressor(max_depth=12, random_state=0)\n",
    "\n",
    "# Train\n",
    "model2_prod.fit(X_train, y_train)\n",
    "\n",
    "# Performance \n",
    "yhat_test = model2_prod.predict(X_test)\n",
    "mse = metrics.mean_squared_error(y_test, yhat_test)\n",
    "rmse = np.sqrt(mse)\n",
    "\n",
    "print('MSE: {}'.format(mse))\n",
    "print('RMSE: {}'.format(rmse))"
   ]
  },
  {
   "cell_type": "markdown",
   "id": "e82537ee-3c32-4827-b7d3-1efffb78b58b",
   "metadata": {},
   "source": [
    "# 3.3 Changing several parameters"
   ]
  },
  {
   "cell_type": "code",
   "execution_count": 79,
   "id": "0fdf6225-5854-4576-8cc5-84d7bc1dfbdb",
   "metadata": {},
   "outputs": [],
   "source": [
    "# Create artificial data\n",
    "X, y = datasets.make_regression(n_samples=44025, n_features=3, random_state=1, noise=6.25, bias=3)\n",
    "\n",
    "# Train/Test split\n",
    "X_train, X_test, y_train, y_test = model_selection.train_test_split(X, y, test_size=0.2)\n",
    "\n",
    "# Train/Validation split\n",
    "X_train, X_val, y_train, y_val = model_selection.train_test_split(X_train, y_train, test_size=0.2)"
   ]
  },
  {
   "cell_type": "code",
   "execution_count": 80,
   "id": "bd664240-6edf-4685-b255-7ab2e9c49c2c",
   "metadata": {},
   "outputs": [],
   "source": [
    "# Create a range of values to be tested on the parameter max depth\n",
    "values = list(range(1, 20))\n",
    "\n",
    "# Create an empty list to receive the error for each value of 1\n",
    "rmse_values = []\n",
    "\n",
    "for i in values:\n",
    "\n",
    "    # Define\n",
    "    model3 = tree.DecisionTreeRegressor(max_depth=i, random_state=1)\n",
    "\n",
    "    # Train\n",
    "    model3.fit(X_train, y_train)\n",
    "\n",
    "    # Perforance\n",
    "    yhat = model3.predict(X_val)\n",
    "    mse = metrics.mean_squared_error(y_val, yhat)\n",
    "    rmse = np.sqrt(mse)\n",
    "\n",
    "    rmse_values.append(rmse)"
   ]
  },
  {
   "cell_type": "code",
   "execution_count": 81,
   "id": "e3063eb7-fe5c-4253-87b3-cfc3c0fd74f5",
   "metadata": {},
   "outputs": [
    {
     "data": {
      "image/png": "[encoded data removed]",
      "text/plain": [
       "<Figure size 640x480 with 1 Axes>"
      ]
     },
     "metadata": {},
     "output_type": "display_data"
    }
   ],
   "source": [
    "# Plot the result\n",
    "plt.plot(values, rmse_values, marker='.', c='r')\n",
    "plt.xlabel('max depth')\n",
    "plt.xlabel('rmse')\n",
    "plt.show()"
   ]
  },
  {
   "cell_type": "code",
   "execution_count": 82,
   "id": "4741539f-2abe-495c-996a-6b6cd4c57786",
   "metadata": {},
   "outputs": [
    {
     "name": "stdout",
     "output_type": "stream",
     "text": [
      "The value that brings the minimum error is: 11, and the value is: 8.36\n"
     ]
    }
   ],
   "source": [
    "# value for minimum error\n",
    "min_ = min(rmse_values)\n",
    "list_index = rmse_values.index(min_)+1\n",
    "print(f'The value that brings the minimum error is: {list_index}, and the value is: {round(min_, 2)}')"
   ]
  },
  {
   "cell_type": "code",
   "execution_count": 83,
   "id": "a8ef9ca3-b13f-426a-a70c-b6294fb7ebc1",
   "metadata": {},
   "outputs": [],
   "source": [
    "# Concat train and validation\n",
    "X_train = np.concatenate((X_train, X_val))\n",
    "y_train = np.concatenate((y_train, y_val))"
   ]
  },
  {
   "cell_type": "code",
   "execution_count": 101,
   "id": "9d5c4e70-341d-4a34-b876-4324e0b0ead1",
   "metadata": {},
   "outputs": [
    {
     "name": "stdout",
     "output_type": "stream",
     "text": [
      "MSE: 84.82957051007237\n",
      "RMSE: 9.210296982729297\n"
     ]
    }
   ],
   "source": [
    "# Create model with best value for max depth\n",
    "model3_prod = tree.DecisionTreeRegressor(random_state=0, max_depth=list_index,)\n",
    "\n",
    "# Train\n",
    "model3_prod.fit(X_train, y_train)\n",
    "\n",
    "# Performance \n",
    "yhat_test = model3_prod.predict(X_test)\n",
    "mse = metrics.mean_squared_error(y_test, yhat_test)\n",
    "rmse = np.sqrt(mse)\n",
    "\n",
    "print('MSE: {}'.format(mse))\n",
    "print('RMSE: {}'.format(rmse))"
   ]
  },
  {
   "cell_type": "code",
   "execution_count": null,
   "id": "81f22960-c8b6-4c81-b745-74d57cb28fbb",
   "metadata": {},
   "outputs": [],
   "source": []
  }
 ],
 "metadata": {
  "kernelspec": {
   "display_name": "Python 3 (ipykernel)",
   "language": "python",
   "name": "python3"
  },
  "language_info": {
   "codemirror_mode": {
    "name": "ipython",
    "version": 3
   },
   "file_extension": ".py",
   "mimetype": "text/x-python",
   "name": "python",
   "nbconvert_exporter": "python",
   "pygments_lexer": "ipython3",
   "version": "3.11.1"
  }
 },
 "nbformat": 4,
 "nbformat_minor": 5
}
