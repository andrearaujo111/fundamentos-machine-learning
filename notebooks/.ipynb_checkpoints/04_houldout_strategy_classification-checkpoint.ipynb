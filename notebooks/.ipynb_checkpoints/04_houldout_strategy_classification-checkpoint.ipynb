{
 "cells": [
  {
   "cell_type": "markdown",
   "id": "fbe97ff9",
   "metadata": {},
   "source": [
    "# 1.0 IMPORTS"
   ]
  },
  {
   "cell_type": "code",
   "execution_count": 1,
   "id": "7ad530b6",
   "metadata": {
    "ExecuteTime": {
     "end_time": "2023-03-02T23:30:59.532179Z",
     "start_time": "2023-03-02T23:30:58.464803Z"
    }
   },
   "outputs": [],
   "source": [
    "import pandas as pd\n",
    "import sklearn.datasets as datasets\n",
    "import sklearn.model_selection as ms\n",
    "import sklearn.tree as tree\n",
    "import sklearn.metrics as metrics\n",
    "import matplotlib.pyplot as plt"
   ]
  },
  {
   "cell_type": "markdown",
   "id": "5f57d150",
   "metadata": {},
   "source": [
    "# 2.0 CREATE SYNTHETIC DATA"
   ]
  },
  {
   "cell_type": "code",
   "execution_count": 2,
   "id": "7cd40968",
   "metadata": {
    "ExecuteTime": {
     "end_time": "2023-03-02T23:30:59.555661Z",
     "start_time": "2023-03-02T23:30:59.534142Z"
    }
   },
   "outputs": [
    {
     "data": {
      "text/html": [
       "<div>\n",
       "<style scoped>\n",
       "    .dataframe tbody tr th:only-of-type {\n",
       "        vertical-align: middle;\n",
       "    }\n",
       "\n",
       "    .dataframe tbody tr th {\n",
       "        vertical-align: top;\n",
       "    }\n",
       "\n",
       "    .dataframe thead th {\n",
       "        text-align: right;\n",
       "    }\n",
       "</style>\n",
       "<table border=\"1\" class=\"dataframe\">\n",
       "  <thead>\n",
       "    <tr style=\"text-align: right;\">\n",
       "      <th></th>\n",
       "      <th>0</th>\n",
       "      <th>1</th>\n",
       "      <th>2</th>\n",
       "      <th>3</th>\n",
       "      <th>4</th>\n",
       "      <th>response</th>\n",
       "    </tr>\n",
       "  </thead>\n",
       "  <tbody>\n",
       "    <tr>\n",
       "      <th>0</th>\n",
       "      <td>0.022413</td>\n",
       "      <td>-0.577613</td>\n",
       "      <td>0.586486</td>\n",
       "      <td>0.222506</td>\n",
       "      <td>0.083286</td>\n",
       "      <td>1</td>\n",
       "    </tr>\n",
       "    <tr>\n",
       "      <th>1</th>\n",
       "      <td>-0.984541</td>\n",
       "      <td>1.426246</td>\n",
       "      <td>-2.362980</td>\n",
       "      <td>0.036798</td>\n",
       "      <td>0.738031</td>\n",
       "      <td>0</td>\n",
       "    </tr>\n",
       "    <tr>\n",
       "      <th>2</th>\n",
       "      <td>1.164931</td>\n",
       "      <td>2.672997</td>\n",
       "      <td>-1.465031</td>\n",
       "      <td>-1.830046</td>\n",
       "      <td>-1.673842</td>\n",
       "      <td>0</td>\n",
       "    </tr>\n",
       "    <tr>\n",
       "      <th>3</th>\n",
       "      <td>-0.302575</td>\n",
       "      <td>-1.828855</td>\n",
       "      <td>1.489188</td>\n",
       "      <td>0.940162</td>\n",
       "      <td>0.643063</td>\n",
       "      <td>1</td>\n",
       "    </tr>\n",
       "    <tr>\n",
       "      <th>4</th>\n",
       "      <td>-0.056288</td>\n",
       "      <td>-1.677339</td>\n",
       "      <td>1.583609</td>\n",
       "      <td>0.722710</td>\n",
       "      <td>0.365120</td>\n",
       "      <td>1</td>\n",
       "    </tr>\n",
       "  </tbody>\n",
       "</table>\n",
       "</div>"
      ],
      "text/plain": [
       "          0         1         2         3         4  response\n",
       "0  0.022413 -0.577613  0.586486  0.222506  0.083286         1\n",
       "1 -0.984541  1.426246 -2.362980  0.036798  0.738031         0\n",
       "2  1.164931  2.672997 -1.465031 -1.830046 -1.673842         0\n",
       "3 -0.302575 -1.828855  1.489188  0.940162  0.643063         1\n",
       "4 -0.056288 -1.677339  1.583609  0.722710  0.365120         1"
      ]
     },
     "execution_count": 2,
     "metadata": {},
     "output_type": "execute_result"
    }
   ],
   "source": [
    "# Define data generator parameters\n",
    "n_samples = 5000\n",
    "n_features = 5\n",
    "n_informative = 2\n",
    "n_redundant = 3\n",
    "n_classes = 2\n",
    "random_state = 44\n",
    "\n",
    "# Create data\n",
    "X, y = datasets.make_classification(n_samples=n_samples, n_features=n_features, n_informative=n_informative, \n",
    "                                    n_redundant=n_redundant, random_state=random_state, n_classes=n_classes)\n",
    "\n",
    "# Showing how's the dataset looks like\n",
    "df1 = pd.concat([pd.DataFrame(X), pd.DataFrame(y, columns=['response'])], axis=1)\n",
    "df1.head()"
   ]
  },
  {
   "cell_type": "markdown",
   "id": "077b72ec",
   "metadata": {},
   "source": [
    "We will separate data here simulating available data (which will perform train, test and validation) and production data, which will simulate data on production."
   ]
  },
  {
   "cell_type": "code",
   "execution_count": 3,
   "id": "7fb60fae",
   "metadata": {
    "ExecuteTime": {
     "end_time": "2023-03-02T23:30:59.564489Z",
     "start_time": "2023-03-02T23:30:59.558600Z"
    }
   },
   "outputs": [],
   "source": [
    "# Split datasets\n",
    "X, X_prod, y, y_prod = ms.train_test_split(X, y, test_size=0.2)"
   ]
  },
  {
   "cell_type": "markdown",
   "id": "b44701f2",
   "metadata": {
    "ExecuteTime": {
     "end_time": "2023-02-28T17:10:48.743506Z",
     "start_time": "2023-02-28T17:10:48.735874Z"
    }
   },
   "source": [
    "# 3.0 FIRST SCENARIO (NO SPLITTING)"
   ]
  },
  {
   "cell_type": "markdown",
   "id": "2fe20de7",
   "metadata": {
    "ExecuteTime": {
     "end_time": "2023-02-28T17:25:59.695576Z",
     "start_time": "2023-02-28T17:25:59.689358Z"
    }
   },
   "source": [
    "### 3.1 Prediction over training"
   ]
  },
  {
   "cell_type": "code",
   "execution_count": 4,
   "id": "5e81ee1b",
   "metadata": {
    "ExecuteTime": {
     "end_time": "2023-03-02T23:30:59.602900Z",
     "start_time": "2023-03-02T23:30:59.570001Z"
    }
   },
   "outputs": [
    {
     "name": "stdout",
     "output_type": "stream",
     "text": [
      "Accuracy over training: 0.95875\n",
      "Precision over training: 0.9587501043751044\n",
      "Recall over training: 0.95875\n"
     ]
    }
   ],
   "source": [
    "# Create decision tree classifier object\n",
    "model = tree.DecisionTreeClassifier(max_depth=9)\n",
    "\n",
    "# Fit the model\n",
    "model.fit(X, y)\n",
    "\n",
    "# Make predictions\n",
    "y_hat = model.predict(X)\n",
    "\n",
    "# Check metrics\n",
    "acc = metrics.accuracy_score(y, y_hat)\n",
    "prec = metrics.precision_score(y, y_hat, average='weighted')\n",
    "rec = metrics.recall_score(y, y_hat, average='weighted')\n",
    "\n",
    "print('Accuracy over training: {}'.format(acc))\n",
    "print('Precision over training: {}'.format(prec))\n",
    "print('Recall over training: {}'.format(rec))"
   ]
  },
  {
   "cell_type": "markdown",
   "id": "83363358",
   "metadata": {},
   "source": [
    "### 3.2 Prediction over production"
   ]
  },
  {
   "cell_type": "code",
   "execution_count": 5,
   "id": "31e3e30f",
   "metadata": {
    "ExecuteTime": {
     "end_time": "2023-03-02T23:30:59.622357Z",
     "start_time": "2023-03-02T23:30:59.605348Z"
    }
   },
   "outputs": [
    {
     "name": "stdout",
     "output_type": "stream",
     "text": [
      "Accuracy over training: 0.898\n",
      "Precision over training: 0.898\n",
      "Recall over training: 0.898\n"
     ]
    }
   ],
   "source": [
    "# Make predictions\n",
    "y_hat_prod = model.predict(X_prod)\n",
    "\n",
    "# Check metrics\n",
    "acc_prod = metrics.accuracy_score(y_prod, y_hat_prod)\n",
    "prec_prod = metrics.precision_score(y_prod, y_hat_prod, average='weighted')\n",
    "rec_prod = metrics.recall_score(y_prod, y_hat_prod, average='weighted')\n",
    "\n",
    "print('Accuracy over training: {}'.format(acc_prod))\n",
    "print('Precision over training: {}'.format(prec_prod))\n",
    "print('Recall over training: {}'.format(rec_prod))"
   ]
  },
  {
   "cell_type": "markdown",
   "id": "9573242f",
   "metadata": {},
   "source": [
    "What happened here is that we used all available data only for training, and when we put it into production and ran the algorithm and captured performance on production data, we saw that performance was about 8% lower. This indicates that the algorithm is overfitted, although not so much as it has good generalization capacity, 80% is not all bad. However, the difference can negatively impact the business, causing loss of revenue or reputation.\n",
    "\n",
    "To mitigate this issue and evaluate the real generalization capacity of the algorithm before going into production, we will call upon our friend, the trai-testing strategy."
   ]
  },
  {
   "cell_type": "markdown",
   "id": "8122bab2",
   "metadata": {
    "ExecuteTime": {
     "end_time": "2023-03-02T23:07:32.649584Z",
     "start_time": "2023-03-02T23:07:32.643204Z"
    }
   },
   "source": [
    "## 4.0 SECOND SCENARIO - TRAIN/TEST"
   ]
  },
  {
   "cell_type": "code",
   "execution_count": 6,
   "id": "a669ea40",
   "metadata": {
    "ExecuteTime": {
     "end_time": "2023-03-02T23:30:59.633101Z",
     "start_time": "2023-03-02T23:30:59.626620Z"
    }
   },
   "outputs": [],
   "source": [
    "# Splitting data\n",
    "X_train, X_test, y_train, y_test = ms.train_test_split(X, y, test_size=0.2, random_state=random_state)"
   ]
  },
  {
   "cell_type": "markdown",
   "id": "2677ef01",
   "metadata": {
    "ExecuteTime": {
     "end_time": "2023-03-02T23:07:52.529517Z",
     "start_time": "2023-03-02T23:07:52.517848Z"
    }
   },
   "source": [
    "### 4.1 PREDICTION OVER TRAINING"
   ]
  },
  {
   "cell_type": "code",
   "execution_count": 7,
   "id": "cc95100c",
   "metadata": {
    "ExecuteTime": {
     "end_time": "2023-03-02T23:30:59.665182Z",
     "start_time": "2023-03-02T23:30:59.635992Z"
    }
   },
   "outputs": [
    {
     "name": "stdout",
     "output_type": "stream",
     "text": [
      "Accuracy over training: 0.9940625\n",
      "Precision over training: 0.994105995913402\n",
      "Recall over training: 0.9940625\n"
     ]
    }
   ],
   "source": [
    "# Create decision tree classifier object\n",
    "model = tree.DecisionTreeClassifier(max_depth=15)\n",
    "\n",
    "# Fit the model\n",
    "model.fit(X_train, y_train)\n",
    "\n",
    "# Make predictions\n",
    "y_hat_train = model.predict(X_train)\n",
    "\n",
    "# Check metrics\n",
    "acc = metrics.accuracy_score(y_train, y_hat_train)\n",
    "prec = metrics.precision_score(y_train, y_hat_train, average='weighted')\n",
    "rec = metrics.recall_score(y_train, y_hat_train, average='weighted')\n",
    "\n",
    "print('Accuracy over training: {}'.format(acc))\n",
    "print('Precision over training: {}'.format(prec))\n",
    "print('Recall over training: {}'.format(rec)) "
   ]
  },
  {
   "cell_type": "markdown",
   "id": "5b56d8fe",
   "metadata": {},
   "source": [
    "### 4.2 PREDICTION OVER TEST"
   ]
  },
  {
   "cell_type": "code",
   "execution_count": 8,
   "id": "7e0a7335",
   "metadata": {
    "ExecuteTime": {
     "end_time": "2023-03-02T23:30:59.682632Z",
     "start_time": "2023-03-02T23:30:59.668147Z"
    }
   },
   "outputs": [
    {
     "name": "stdout",
     "output_type": "stream",
     "text": [
      "Accuracy over training: 0.88625\n",
      "Precision over training: 0.8865345373336004\n",
      "Recall over training: 0.88625\n"
     ]
    }
   ],
   "source": [
    "y_hat_test = model.predict(X_test)\n",
    "\n",
    "# Check metrics\n",
    "acc = metrics.accuracy_score(y_test, y_hat_test)\n",
    "prec = metrics.precision_score(y_test, y_hat_test, average='weighted')\n",
    "rec = metrics.recall_score(y_test, y_hat_test, average='weighted')\n",
    "\n",
    "print('Accuracy over training: {}'.format(acc))\n",
    "print('Precision over training: {}'.format(prec))\n",
    "print('Recall over training: {}'.format(rec)) "
   ]
  },
  {
   "cell_type": "markdown",
   "id": "e45e9a3d",
   "metadata": {
    "ExecuteTime": {
     "end_time": "2023-03-02T23:23:46.659958Z",
     "start_time": "2023-03-02T23:23:46.657178Z"
    }
   },
   "source": [
    "### 4.3 FIND THE BEST PARAMETER"
   ]
  },
  {
   "cell_type": "code",
   "execution_count": 9,
   "id": "1025d846",
   "metadata": {
    "ExecuteTime": {
     "end_time": "2023-03-02T23:31:00.231259Z",
     "start_time": "2023-03-02T23:30:59.685923Z"
    }
   },
   "outputs": [],
   "source": [
    "# Create a list that will serve as parameter\n",
    "values = [i for i in range(1, 40)]\n",
    "\n",
    "# Create an empty list to save the results\n",
    "test_scores = []\n",
    "\n",
    "for i in values:\n",
    "    \n",
    "    # Create decision tree classifier object\n",
    "    model = tree.DecisionTreeClassifier(max_depth=i)\n",
    "\n",
    "    # Fit the model\n",
    "    model.fit(X_train, y_train)\n",
    "\n",
    "    # Make predictions\n",
    "    y_hat_train = model.predict(X_train)\n",
    "    acc_test = metrics.accuracy_score(y_train, y_hat_train)\n",
    "    \n",
    "    test_scores.append(acc_test)"
   ]
  },
  {
   "cell_type": "code",
   "execution_count": 15,
   "id": "13fabfab",
   "metadata": {
    "ExecuteTime": {
     "end_time": "2023-03-02T23:32:42.942401Z",
     "start_time": "2023-03-02T23:32:42.804547Z"
    }
   },
   "outputs": [
    {
     "data": {
      "image/png": "[encoded data removed]",
      "text/plain": [
       "<Figure size 1000x600 with 1 Axes>"
      ]
     },
     "metadata": {},
     "output_type": "display_data"
    }
   ],
   "source": [
    "# Plot results\n",
    "plt.figure(figsize=(10, 6))\n",
    "plt.plot(test_scores,'-o', label='test')\n",
    "plt.show()"
   ]
  },
  {
   "cell_type": "code",
   "execution_count": null,
   "id": "67c86ebf",
   "metadata": {},
   "outputs": [],
   "source": []
  }
 ],
 "metadata": {
  "kernelspec": {
   "display_name": "Python 3 (ipykernel)",
   "language": "python",
   "name": "python3"
  },
  "language_info": {
   "codemirror_mode": {
    "name": "ipython",
    "version": 3
   },
   "file_extension": ".py",
   "mimetype": "text/x-python",
   "name": "python",
   "nbconvert_exporter": "python",
   "pygments_lexer": "ipython3",
   "version": "3.11.1"
  },
  "varInspector": {
   "cols": {
    "lenName": 16,
    "lenType": 16,
    "lenVar": 40
   },
   "kernels_config": {
    "python": {
     "delete_cmd_postfix": "",
     "delete_cmd_prefix": "del ",
     "library": "var_list.py",
     "varRefreshCmd": "print(var_dic_list())"
    },
    "r": {
     "delete_cmd_postfix": ") ",
     "delete_cmd_prefix": "rm(",
     "library": "var_list.r",
     "varRefreshCmd": "cat(var_dic_list()) "
    }
   },
   "types_to_exclude": [
    "module",
    "function",
    "builtin_function_or_method",
    "instance",
    "_Feature"
   ],
   "window_display": false
  }
 },
 "nbformat": 4,
 "nbformat_minor": 5
}
