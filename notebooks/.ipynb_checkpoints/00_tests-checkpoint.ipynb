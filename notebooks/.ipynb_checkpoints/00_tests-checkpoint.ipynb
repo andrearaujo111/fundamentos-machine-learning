{
 "cells": [
  {
   "cell_type": "code",
   "execution_count": 1,
   "id": "09454ecf-6a60-46dd-9d38-06d5e952f835",
   "metadata": {},
   "outputs": [],
   "source": [
    "# return the shape of the data frame\n",
    "def data_shape(df):\n",
    "    return f'The dataset has {df1.shape[0]} rows and {df1.shape[1]} columns'"
   ]
  },
  {
   "cell_type": "markdown",
   "id": "be0468f6",
   "metadata": {},
   "source": [
    "# 0. IMPORTS"
   ]
  },
  {
   "cell_type": "code",
   "execution_count": 1,
   "id": "9942ed38-6132-48ad-9b8b-4a99c59b0aca",
   "metadata": {},
   "outputs": [],
   "source": [
    "import warnings\n",
    "import pandas   as pd\n",
    "import numpy    as np\n",
    "import seaborn  as sns\n",
    "import sklearn.model_selection as ms\n",
    "import sklearn.metrics as metrics\n",
    "import matplotlib.pyplot as plt\n",
    "\n",
    "from sklearn.neighbors import KNeighborsClassifier\n",
    "\n",
    "\n",
    "warnings.filterwarnings('ignore')"
   ]
  },
  {
   "cell_type": "markdown",
   "id": "a9f68b3d-7f02-48ca-91fb-c25c04917080",
   "metadata": {},
   "source": [
    "# 1. CLASSIFICATION"
   ]
  },
  {
   "cell_type": "code",
   "execution_count": null,
   "id": "90c96b9f-40d7-40b4-8f86-696b6bafb388",
   "metadata": {},
   "outputs": [],
   "source": []
  },
  {
   "cell_type": "code",
   "execution_count": null,
   "id": "5a982cfe-a9b1-4026-96d3-6e3401a5bacd",
   "metadata": {},
   "outputs": [],
   "source": []
  },
  {
   "cell_type": "code",
   "execution_count": null,
   "id": "8bd6307c-4083-4d18-874a-3004ccfe2862",
   "metadata": {},
   "outputs": [],
   "source": []
  },
  {
   "cell_type": "markdown",
   "id": "329c380c-a8e4-49eb-ad43-9520d9bba701",
   "metadata": {},
   "source": [
    "# 2. REGRESSION"
   ]
  },
  {
   "cell_type": "code",
   "execution_count": null,
   "id": "823b714d-3669-4b9e-9d8a-d3aba16a714b",
   "metadata": {},
   "outputs": [],
   "source": []
  },
  {
   "cell_type": "code",
   "execution_count": null,
   "id": "8c200e7e-3162-4cf1-a1a6-95ac6c35c21a",
   "metadata": {},
   "outputs": [],
   "source": []
  }
 ],
 "metadata": {
  "kernelspec": {
   "display_name": "Python 3 (ipykernel)",
   "language": "python",
   "name": "python3"
  },
  "language_info": {
   "codemirror_mode": {
    "name": "ipython",
    "version": 3
   },
   "file_extension": ".py",
   "mimetype": "text/x-python",
   "name": "python",
   "nbconvert_exporter": "python",
   "pygments_lexer": "ipython3",
   "version": "3.11.1"
  },
  "varInspector": {
   "cols": {
    "lenName": 16,
    "lenType": 16,
    "lenVar": 40
   },
   "kernels_config": {
    "python": {
     "delete_cmd_postfix": "",
     "delete_cmd_prefix": "del ",
     "library": "var_list.py",
     "varRefreshCmd": "print(var_dic_list())"
    },
    "r": {
     "delete_cmd_postfix": ") ",
     "delete_cmd_prefix": "rm(",
     "library": "var_list.r",
     "varRefreshCmd": "cat(var_dic_list()) "
    }
   },
   "types_to_exclude": [
    "module",
    "function",
    "builtin_function_or_method",
    "instance",
    "_Feature"
   ],
   "window_display": false
  }
 },
 "nbformat": 4,
 "nbformat_minor": 5
}
