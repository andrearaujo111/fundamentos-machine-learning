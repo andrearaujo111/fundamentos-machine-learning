{
 "cells": [
  {
   "cell_type": "markdown",
   "id": "b6f3c7da",
   "metadata": {
    "ExecuteTime": {
     "end_time": "2023-01-24T02:01:36.014031Z",
     "start_time": "2023-01-24T02:01:35.995911Z"
    }
   },
   "source": [
    "# 1.0 Imports"
   ]
  },
  {
   "cell_type": "code",
   "execution_count": 70,
   "id": "8c180156",
   "metadata": {
    "ExecuteTime": {
     "end_time": "2023-02-02T23:10:46.440316Z",
     "start_time": "2023-02-02T23:10:46.430341Z"
    }
   },
   "outputs": [],
   "source": [
    "import pandas as pd\n",
    "import numpy as np\n",
    "import seaborn as sns\n",
    "from matplotlib import pyplot as plt\n",
    "from sklearn.neighbors import KNeighborsClassifier\n",
    "from sklearn import metrics"
   ]
  },
  {
   "cell_type": "markdown",
   "id": "4e401c6b",
   "metadata": {},
   "source": [
    "# 2.0 KNN (K-Nearest Neighbors)"
   ]
  },
  {
   "cell_type": "markdown",
   "id": "bfa61f48",
   "metadata": {},
   "source": [
    "## 2.1 Data Load"
   ]
  },
  {
   "cell_type": "code",
   "execution_count": 2,
   "id": "20a152c2",
   "metadata": {
    "ExecuteTime": {
     "end_time": "2023-02-02T22:53:44.762636Z",
     "start_time": "2023-02-02T22:53:44.668040Z"
    }
   },
   "outputs": [
    {
     "data": {
      "text/html": [
       "<div>\n",
       "<style scoped>\n",
       "    .dataframe tbody tr th:only-of-type {\n",
       "        vertical-align: middle;\n",
       "    }\n",
       "\n",
       "    .dataframe tbody tr th {\n",
       "        vertical-align: top;\n",
       "    }\n",
       "\n",
       "    .dataframe thead th {\n",
       "        text-align: right;\n",
       "    }\n",
       "</style>\n",
       "<table border=\"1\" class=\"dataframe\">\n",
       "  <thead>\n",
       "    <tr style=\"text-align: right;\">\n",
       "      <th></th>\n",
       "      <th>id_cliente</th>\n",
       "      <th>idade</th>\n",
       "      <th>saldo_atual</th>\n",
       "      <th>divida_atual</th>\n",
       "      <th>renda_anual</th>\n",
       "      <th>valor_em_investimentos</th>\n",
       "      <th>taxa_utilizacao_credito</th>\n",
       "      <th>num_emprestimos</th>\n",
       "      <th>num_contas_bancarias</th>\n",
       "      <th>num_cartoes_credito</th>\n",
       "      <th>dias_atraso_dt_venc</th>\n",
       "      <th>num_pgtos_atrasados</th>\n",
       "      <th>num_consultas_credito</th>\n",
       "      <th>taxa_juros</th>\n",
       "      <th>investe_exterior</th>\n",
       "      <th>pessoa_polit_exp</th>\n",
       "      <th>limite_adicional</th>\n",
       "    </tr>\n",
       "  </thead>\n",
       "  <tbody>\n",
       "    <tr>\n",
       "      <th>0</th>\n",
       "      <td>1767</td>\n",
       "      <td>21</td>\n",
       "      <td>278.172008</td>\n",
       "      <td>2577.05</td>\n",
       "      <td>24196.89636</td>\n",
       "      <td>104.306544</td>\n",
       "      <td>31.038763</td>\n",
       "      <td>6</td>\n",
       "      <td>5</td>\n",
       "      <td>7</td>\n",
       "      <td>21</td>\n",
       "      <td>14</td>\n",
       "      <td>9</td>\n",
       "      <td>15</td>\n",
       "      <td>Não</td>\n",
       "      <td>Não</td>\n",
       "      <td>Negar</td>\n",
       "    </tr>\n",
       "    <tr>\n",
       "      <th>1</th>\n",
       "      <td>11920</td>\n",
       "      <td>40</td>\n",
       "      <td>268.874152</td>\n",
       "      <td>2465.39</td>\n",
       "      <td>19227.37796</td>\n",
       "      <td>69.858778</td>\n",
       "      <td>36.917093</td>\n",
       "      <td>5</td>\n",
       "      <td>8</td>\n",
       "      <td>5</td>\n",
       "      <td>40</td>\n",
       "      <td>23</td>\n",
       "      <td>10</td>\n",
       "      <td>18</td>\n",
       "      <td>Não</td>\n",
       "      <td>Não</td>\n",
       "      <td>Negar</td>\n",
       "    </tr>\n",
       "    <tr>\n",
       "      <th>2</th>\n",
       "      <td>8910</td>\n",
       "      <td>36</td>\n",
       "      <td>446.643127</td>\n",
       "      <td>1055.29</td>\n",
       "      <td>42822.28223</td>\n",
       "      <td>134.201478</td>\n",
       "      <td>34.561714</td>\n",
       "      <td>0</td>\n",
       "      <td>3</td>\n",
       "      <td>6</td>\n",
       "      <td>26</td>\n",
       "      <td>13</td>\n",
       "      <td>3</td>\n",
       "      <td>15</td>\n",
       "      <td>Sim</td>\n",
       "      <td>Não</td>\n",
       "      <td>Negar</td>\n",
       "    </tr>\n",
       "    <tr>\n",
       "      <th>3</th>\n",
       "      <td>4964</td>\n",
       "      <td>58</td>\n",
       "      <td>321.141267</td>\n",
       "      <td>703.05</td>\n",
       "      <td>51786.82600</td>\n",
       "      <td>297.350067</td>\n",
       "      <td>31.493561</td>\n",
       "      <td>0</td>\n",
       "      <td>3</td>\n",
       "      <td>7</td>\n",
       "      <td>12</td>\n",
       "      <td>7</td>\n",
       "      <td>2</td>\n",
       "      <td>1</td>\n",
       "      <td>Sim</td>\n",
       "      <td>Não</td>\n",
       "      <td>Negar</td>\n",
       "    </tr>\n",
       "    <tr>\n",
       "      <th>4</th>\n",
       "      <td>10100</td>\n",
       "      <td>35</td>\n",
       "      <td>428.716114</td>\n",
       "      <td>891.29</td>\n",
       "      <td>44626.85346</td>\n",
       "      <td>134.201478</td>\n",
       "      <td>28.028887</td>\n",
       "      <td>2</td>\n",
       "      <td>8</td>\n",
       "      <td>7</td>\n",
       "      <td>24</td>\n",
       "      <td>10</td>\n",
       "      <td>8</td>\n",
       "      <td>20</td>\n",
       "      <td>Sim</td>\n",
       "      <td>Não</td>\n",
       "      <td>Negar</td>\n",
       "    </tr>\n",
       "  </tbody>\n",
       "</table>\n",
       "</div>"
      ],
      "text/plain": [
       "   id_cliente  idade  saldo_atual  divida_atual  renda_anual  \\\n",
       "0        1767     21   278.172008       2577.05  24196.89636   \n",
       "1       11920     40   268.874152       2465.39  19227.37796   \n",
       "2        8910     36   446.643127       1055.29  42822.28223   \n",
       "3        4964     58   321.141267        703.05  51786.82600   \n",
       "4       10100     35   428.716114        891.29  44626.85346   \n",
       "\n",
       "   valor_em_investimentos  taxa_utilizacao_credito  num_emprestimos  \\\n",
       "0              104.306544                31.038763                6   \n",
       "1               69.858778                36.917093                5   \n",
       "2              134.201478                34.561714                0   \n",
       "3              297.350067                31.493561                0   \n",
       "4              134.201478                28.028887                2   \n",
       "\n",
       "   num_contas_bancarias  num_cartoes_credito  dias_atraso_dt_venc  \\\n",
       "0                     5                    7                   21   \n",
       "1                     8                    5                   40   \n",
       "2                     3                    6                   26   \n",
       "3                     3                    7                   12   \n",
       "4                     8                    7                   24   \n",
       "\n",
       "   num_pgtos_atrasados  num_consultas_credito  taxa_juros investe_exterior  \\\n",
       "0                   14                      9          15              Não   \n",
       "1                   23                     10          18              Não   \n",
       "2                   13                      3          15              Sim   \n",
       "3                    7                      2           1              Sim   \n",
       "4                   10                      8          20              Sim   \n",
       "\n",
       "  pessoa_polit_exp limite_adicional  \n",
       "0              Não            Negar  \n",
       "1              Não            Negar  \n",
       "2              Não            Negar  \n",
       "3              Não            Negar  \n",
       "4              Não            Negar  "
      ]
     },
     "execution_count": 2,
     "metadata": {},
     "output_type": "execute_result"
    }
   ],
   "source": [
    "# Load dataset\n",
    "df = pd.read_csv('../datasets/train.csv')\n",
    "df.head()"
   ]
  },
  {
   "cell_type": "code",
   "execution_count": 3,
   "id": "86b6f907",
   "metadata": {
    "ExecuteTime": {
     "end_time": "2023-02-02T22:53:44.778573Z",
     "start_time": "2023-02-02T22:53:44.765605Z"
    }
   },
   "outputs": [
    {
     "name": "stdout",
     "output_type": "stream",
     "text": [
      "The dataframe have 9500  rows and 17 columns\n"
     ]
    }
   ],
   "source": [
    "# Data Shape\n",
    "print(f'The dataframe have {df.shape[0]}  rows and {df.shape[1]} columns')"
   ]
  },
  {
   "cell_type": "markdown",
   "id": "54e844b9",
   "metadata": {},
   "source": [
    "## 2.2 Implement Model"
   ]
  },
  {
   "cell_type": "code",
   "execution_count": 4,
   "id": "07e49ef3",
   "metadata": {
    "ExecuteTime": {
     "end_time": "2023-02-02T22:53:44.793538Z",
     "start_time": "2023-02-02T22:53:44.781558Z"
    }
   },
   "outputs": [
    {
     "data": {
      "text/plain": [
       "Negar       0.841579\n",
       "Conceder    0.158421\n",
       "Name: limite_adicional, dtype: float64"
      ]
     },
     "execution_count": 4,
     "metadata": {},
     "output_type": "execute_result"
    }
   ],
   "source": [
    "# Check data balance\n",
    "df['limite_adicional'].value_counts(normalize=True)"
   ]
  },
  {
   "cell_type": "code",
   "execution_count": 5,
   "id": "c5fe6914",
   "metadata": {
    "ExecuteTime": {
     "end_time": "2023-02-02T22:53:44.812931Z",
     "start_time": "2023-02-02T22:53:44.796544Z"
    }
   },
   "outputs": [],
   "source": [
    "# Isolate the predictor variables\n",
    "features = ['idade', 'saldo_atual', 'divida_atual', 'renda_anual', 'valor_em_investimentos',\n",
    "'taxa_utilizacao_credito', 'num_emprestimos', 'num_contas_bancarias', 'num_cartoes_credito',\n",
    "'dias_atraso_dt_venc', 'num_pgtos_atrasados', 'num_consultas_credito', 'taxa_juros']\n",
    "\n",
    "# Isolate the response variable\n",
    "label = 'limite_adicional'\n",
    "\n",
    "# Preparating train data\n",
    "x_train = df.loc[:, features]\n",
    "y_train = df.loc[:, label].values.ravel() # Values/ravel turns into an array"
   ]
  },
  {
   "cell_type": "code",
   "execution_count": 6,
   "id": "b8632cb8",
   "metadata": {
    "ExecuteTime": {
     "end_time": "2023-02-02T22:53:45.542389Z",
     "start_time": "2023-02-02T22:53:44.816923Z"
    }
   },
   "outputs": [
    {
     "data": {
      "text/html": [
       "<div>\n",
       "<style scoped>\n",
       "    .dataframe tbody tr th:only-of-type {\n",
       "        vertical-align: middle;\n",
       "    }\n",
       "\n",
       "    .dataframe tbody tr th {\n",
       "        vertical-align: top;\n",
       "    }\n",
       "\n",
       "    .dataframe thead th {\n",
       "        text-align: right;\n",
       "    }\n",
       "</style>\n",
       "<table border=\"1\" class=\"dataframe\">\n",
       "  <thead>\n",
       "    <tr style=\"text-align: right;\">\n",
       "      <th></th>\n",
       "      <th>id_cliente</th>\n",
       "      <th>limite_adicional</th>\n",
       "      <th>predicted</th>\n",
       "      <th>right</th>\n",
       "    </tr>\n",
       "  </thead>\n",
       "  <tbody>\n",
       "    <tr>\n",
       "      <th>0</th>\n",
       "      <td>1767</td>\n",
       "      <td>Negar</td>\n",
       "      <td>Negar</td>\n",
       "      <td>1</td>\n",
       "    </tr>\n",
       "    <tr>\n",
       "      <th>1</th>\n",
       "      <td>11920</td>\n",
       "      <td>Negar</td>\n",
       "      <td>Negar</td>\n",
       "      <td>1</td>\n",
       "    </tr>\n",
       "    <tr>\n",
       "      <th>2</th>\n",
       "      <td>8910</td>\n",
       "      <td>Negar</td>\n",
       "      <td>Negar</td>\n",
       "      <td>1</td>\n",
       "    </tr>\n",
       "    <tr>\n",
       "      <th>3</th>\n",
       "      <td>4964</td>\n",
       "      <td>Negar</td>\n",
       "      <td>Negar</td>\n",
       "      <td>1</td>\n",
       "    </tr>\n",
       "    <tr>\n",
       "      <th>4</th>\n",
       "      <td>10100</td>\n",
       "      <td>Negar</td>\n",
       "      <td>Negar</td>\n",
       "      <td>1</td>\n",
       "    </tr>\n",
       "    <tr>\n",
       "      <th>...</th>\n",
       "      <td>...</td>\n",
       "      <td>...</td>\n",
       "      <td>...</td>\n",
       "      <td>...</td>\n",
       "    </tr>\n",
       "    <tr>\n",
       "      <th>9495</th>\n",
       "      <td>5155</td>\n",
       "      <td>Negar</td>\n",
       "      <td>Negar</td>\n",
       "      <td>1</td>\n",
       "    </tr>\n",
       "    <tr>\n",
       "      <th>9496</th>\n",
       "      <td>11977</td>\n",
       "      <td>Negar</td>\n",
       "      <td>Negar</td>\n",
       "      <td>1</td>\n",
       "    </tr>\n",
       "    <tr>\n",
       "      <th>9497</th>\n",
       "      <td>9278</td>\n",
       "      <td>Negar</td>\n",
       "      <td>Negar</td>\n",
       "      <td>1</td>\n",
       "    </tr>\n",
       "    <tr>\n",
       "      <th>9498</th>\n",
       "      <td>2525</td>\n",
       "      <td>Negar</td>\n",
       "      <td>Negar</td>\n",
       "      <td>1</td>\n",
       "    </tr>\n",
       "    <tr>\n",
       "      <th>9499</th>\n",
       "      <td>9636</td>\n",
       "      <td>Negar</td>\n",
       "      <td>Negar</td>\n",
       "      <td>1</td>\n",
       "    </tr>\n",
       "  </tbody>\n",
       "</table>\n",
       "<p>9500 rows × 4 columns</p>\n",
       "</div>"
      ],
      "text/plain": [
       "      id_cliente limite_adicional predicted  right\n",
       "0           1767            Negar     Negar      1\n",
       "1          11920            Negar     Negar      1\n",
       "2           8910            Negar     Negar      1\n",
       "3           4964            Negar     Negar      1\n",
       "4          10100            Negar     Negar      1\n",
       "...          ...              ...       ...    ...\n",
       "9495        5155            Negar     Negar      1\n",
       "9496       11977            Negar     Negar      1\n",
       "9497        9278            Negar     Negar      1\n",
       "9498        2525            Negar     Negar      1\n",
       "9499        9636            Negar     Negar      1\n",
       "\n",
       "[9500 rows x 4 columns]"
      ]
     },
     "execution_count": 6,
     "metadata": {},
     "output_type": "execute_result"
    }
   ],
   "source": [
    "# Create knn object with a number of neighbors\n",
    "knn_classifier = KNeighborsClassifier(n_neighbors=7)\n",
    "\n",
    "# Training the algorithm\n",
    "knn_classifier.fit(x_train, y_train)\n",
    "\n",
    "# Predictions\n",
    "y_pred = knn_classifier.predict(x_train)\n",
    "y_pred\n",
    "\n",
    "# Comparing predict vs realized\n",
    "df1 = df.loc[:, ['id_cliente', 'limite_adicional']]\n",
    "df1['predicted'] = y_pred\n",
    "df1['right'] = df1.apply(lambda x: 1 if x['limite_adicional'] == x['predicted'] else 0, axis=1)\n",
    "\n",
    "df1"
   ]
  },
  {
   "cell_type": "markdown",
   "id": "b81ebfaa",
   "metadata": {},
   "source": [
    "## 2.3 Metrics"
   ]
  },
  {
   "cell_type": "markdown",
   "id": "380bfec3",
   "metadata": {},
   "source": [
    "**<span class=\"mark\">Remembering that we have a class (Conceder) with a representativity of 84%, which indicates unbalanced data.</span>**"
   ]
  },
  {
   "cell_type": "markdown",
   "id": "e8997a39",
   "metadata": {
    "ExecuteTime": {
     "end_time": "2023-01-28T16:02:50.086942Z",
     "start_time": "2023-01-28T16:02:50.070984Z"
    }
   },
   "source": [
    "### 2.3.1 Confusion Matrix"
   ]
  },
  {
   "cell_type": "code",
   "execution_count": 7,
   "id": "d5cfc9b8",
   "metadata": {
    "ExecuteTime": {
     "end_time": "2023-02-02T22:53:45.611887Z",
     "start_time": "2023-02-02T22:53:45.544350Z"
    }
   },
   "outputs": [
    {
     "data": {
      "text/plain": [
       "array([[ 369, 1136],\n",
       "       [ 203, 7792]], dtype=int64)"
      ]
     },
     "execution_count": 7,
     "metadata": {},
     "output_type": "execute_result"
    }
   ],
   "source": [
    "# Confusion matrix\n",
    "metrics.confusion_matrix(y_train, y_pred)"
   ]
  },
  {
   "cell_type": "markdown",
   "id": "ef7bd66a",
   "metadata": {},
   "source": [
    "369  Classified as **Conceder** that is **Conceder**  \n",
    "1136 Claassified as **Negar** that was **Conceder**  \n",
    "203 Classified as **Conceder** that was **Negar**  \n",
    "7792 Classified as **Negar** that was **Negar**  "
   ]
  },
  {
   "cell_type": "markdown",
   "id": "93b115dd",
   "metadata": {},
   "source": [
    "### 2.3.2 Accuracy"
   ]
  },
  {
   "cell_type": "code",
   "execution_count": 8,
   "id": "01aeac6a",
   "metadata": {
    "ExecuteTime": {
     "end_time": "2023-02-02T22:53:45.627831Z",
     "start_time": "2023-02-02T22:53:45.613849Z"
    }
   },
   "outputs": [
    {
     "name": "stdout",
     "output_type": "stream",
     "text": [
      "The algorithm got a 85.91% accuracy\n"
     ]
    }
   ],
   "source": [
    "# Accuracy (mainstream method)\n",
    "print(f'The algorithm got a {round(np.mean(df1.right) * 100, 2)}% accuracy')"
   ]
  },
  {
   "cell_type": "code",
   "execution_count": 9,
   "id": "bdda0683",
   "metadata": {
    "ExecuteTime": {
     "end_time": "2023-02-02T22:53:45.663096Z",
     "start_time": "2023-02-02T22:53:45.629826Z"
    }
   },
   "outputs": [
    {
     "name": "stdout",
     "output_type": "stream",
     "text": [
      "The algorithm got a 85.91% accuracy\n"
     ]
    }
   ],
   "source": [
    "# Accuracy with metrics library\n",
    "acc = metrics.accuracy_score(y_train, y_pred)\n",
    "\n",
    "print('The algorithm got a {:.2f}% accuracy'.format(acc * 100))"
   ]
  },
  {
   "cell_type": "markdown",
   "id": "088bcce1",
   "metadata": {
    "ExecuteTime": {
     "end_time": "2023-02-01T02:44:25.669900Z",
     "start_time": "2023-02-01T02:44:25.661940Z"
    }
   },
   "source": [
    "### 2.3.3 Precision"
   ]
  },
  {
   "cell_type": "code",
   "execution_count": 10,
   "id": "292d28a7",
   "metadata": {
    "ExecuteTime": {
     "end_time": "2023-02-02T22:53:45.761172Z",
     "start_time": "2023-02-02T22:53:45.668093Z"
    }
   },
   "outputs": [
    {
     "name": "stdout",
     "output_type": "stream",
     "text": [
      "The algorithm got a 64.51% precision score\n"
     ]
    }
   ],
   "source": [
    "# Precision (of all predictions made on the positive class, how many times did I got right?)\n",
    "prec = metrics.precision_score(y_train, y_pred, pos_label='Conceder')\n",
    "print('The algorithm got a {:.2f}% precision score'.format(prec * 100))"
   ]
  },
  {
   "cell_type": "markdown",
   "id": "68d17d1b",
   "metadata": {
    "ExecuteTime": {
     "end_time": "2023-02-01T02:48:16.758338Z",
     "start_time": "2023-02-01T02:48:16.747395Z"
    }
   },
   "source": [
    "### 2.3.4 Recall"
   ]
  },
  {
   "cell_type": "code",
   "execution_count": 11,
   "id": "2fc7346c",
   "metadata": {
    "ExecuteTime": {
     "end_time": "2023-02-02T22:53:45.865280Z",
     "start_time": "2023-02-02T22:53:45.763166Z"
    }
   },
   "outputs": [
    {
     "name": "stdout",
     "output_type": "stream",
     "text": [
      "The algorithm got a 24.52% recall score\n"
     ]
    }
   ],
   "source": [
    "recall = metrics.recall_score(y_train, y_pred, pos_label='Conceder')\n",
    "print('The algorithm got a {:.2f}% recall score'.format(recall * 100))"
   ]
  },
  {
   "cell_type": "markdown",
   "id": "e364c07f",
   "metadata": {},
   "source": [
    "The algorithm have a good accuracy due to the Negar Class, so if our objective is to aim to deny customers, it seems good, but it can get better. Now, if our objective is to provide a good experience by conceiving, we are way far from good."
   ]
  },
  {
   "cell_type": "markdown",
   "id": "b92adb54",
   "metadata": {
    "ExecuteTime": {
     "end_time": "2023-02-01T02:52:18.363201Z",
     "start_time": "2023-02-01T02:52:18.344213Z"
    }
   },
   "source": [
    "## 3.0 Exercises"
   ]
  },
  {
   "cell_type": "markdown",
   "id": "2441200a",
   "metadata": {},
   "source": [
    "### 3.1 Retraining the algorithm to k = [3, 5, 7, 9, 11, 13, 15, 17, 19, 21]"
   ]
  },
  {
   "cell_type": "code",
   "execution_count": 12,
   "id": "4af3c217",
   "metadata": {
    "ExecuteTime": {
     "end_time": "2023-02-02T22:53:45.896888Z",
     "start_time": "2023-02-02T22:53:45.867217Z"
    }
   },
   "outputs": [
    {
     "data": {
      "text/html": [
       "<div>\n",
       "<style scoped>\n",
       "    .dataframe tbody tr th:only-of-type {\n",
       "        vertical-align: middle;\n",
       "    }\n",
       "\n",
       "    .dataframe tbody tr th {\n",
       "        vertical-align: top;\n",
       "    }\n",
       "\n",
       "    .dataframe thead th {\n",
       "        text-align: right;\n",
       "    }\n",
       "</style>\n",
       "<table border=\"1\" class=\"dataframe\">\n",
       "  <thead>\n",
       "    <tr style=\"text-align: right;\">\n",
       "      <th></th>\n",
       "      <th>id_cliente</th>\n",
       "      <th>idade</th>\n",
       "      <th>saldo_atual</th>\n",
       "      <th>divida_atual</th>\n",
       "      <th>renda_anual</th>\n",
       "      <th>valor_em_investimentos</th>\n",
       "      <th>taxa_utilizacao_credito</th>\n",
       "      <th>num_emprestimos</th>\n",
       "      <th>num_contas_bancarias</th>\n",
       "      <th>num_cartoes_credito</th>\n",
       "      <th>dias_atraso_dt_venc</th>\n",
       "      <th>num_pgtos_atrasados</th>\n",
       "      <th>num_consultas_credito</th>\n",
       "      <th>taxa_juros</th>\n",
       "      <th>investe_exterior</th>\n",
       "      <th>pessoa_polit_exp</th>\n",
       "      <th>limite_adicional</th>\n",
       "    </tr>\n",
       "  </thead>\n",
       "  <tbody>\n",
       "    <tr>\n",
       "      <th>0</th>\n",
       "      <td>1767</td>\n",
       "      <td>21</td>\n",
       "      <td>278.172008</td>\n",
       "      <td>2577.05</td>\n",
       "      <td>24196.89636</td>\n",
       "      <td>104.306544</td>\n",
       "      <td>31.038763</td>\n",
       "      <td>6</td>\n",
       "      <td>5</td>\n",
       "      <td>7</td>\n",
       "      <td>21</td>\n",
       "      <td>14</td>\n",
       "      <td>9</td>\n",
       "      <td>15</td>\n",
       "      <td>Não</td>\n",
       "      <td>Não</td>\n",
       "      <td>Negar</td>\n",
       "    </tr>\n",
       "    <tr>\n",
       "      <th>1</th>\n",
       "      <td>11920</td>\n",
       "      <td>40</td>\n",
       "      <td>268.874152</td>\n",
       "      <td>2465.39</td>\n",
       "      <td>19227.37796</td>\n",
       "      <td>69.858778</td>\n",
       "      <td>36.917093</td>\n",
       "      <td>5</td>\n",
       "      <td>8</td>\n",
       "      <td>5</td>\n",
       "      <td>40</td>\n",
       "      <td>23</td>\n",
       "      <td>10</td>\n",
       "      <td>18</td>\n",
       "      <td>Não</td>\n",
       "      <td>Não</td>\n",
       "      <td>Negar</td>\n",
       "    </tr>\n",
       "    <tr>\n",
       "      <th>2</th>\n",
       "      <td>8910</td>\n",
       "      <td>36</td>\n",
       "      <td>446.643127</td>\n",
       "      <td>1055.29</td>\n",
       "      <td>42822.28223</td>\n",
       "      <td>134.201478</td>\n",
       "      <td>34.561714</td>\n",
       "      <td>0</td>\n",
       "      <td>3</td>\n",
       "      <td>6</td>\n",
       "      <td>26</td>\n",
       "      <td>13</td>\n",
       "      <td>3</td>\n",
       "      <td>15</td>\n",
       "      <td>Sim</td>\n",
       "      <td>Não</td>\n",
       "      <td>Negar</td>\n",
       "    </tr>\n",
       "    <tr>\n",
       "      <th>3</th>\n",
       "      <td>4964</td>\n",
       "      <td>58</td>\n",
       "      <td>321.141267</td>\n",
       "      <td>703.05</td>\n",
       "      <td>51786.82600</td>\n",
       "      <td>297.350067</td>\n",
       "      <td>31.493561</td>\n",
       "      <td>0</td>\n",
       "      <td>3</td>\n",
       "      <td>7</td>\n",
       "      <td>12</td>\n",
       "      <td>7</td>\n",
       "      <td>2</td>\n",
       "      <td>1</td>\n",
       "      <td>Sim</td>\n",
       "      <td>Não</td>\n",
       "      <td>Negar</td>\n",
       "    </tr>\n",
       "    <tr>\n",
       "      <th>4</th>\n",
       "      <td>10100</td>\n",
       "      <td>35</td>\n",
       "      <td>428.716114</td>\n",
       "      <td>891.29</td>\n",
       "      <td>44626.85346</td>\n",
       "      <td>134.201478</td>\n",
       "      <td>28.028887</td>\n",
       "      <td>2</td>\n",
       "      <td>8</td>\n",
       "      <td>7</td>\n",
       "      <td>24</td>\n",
       "      <td>10</td>\n",
       "      <td>8</td>\n",
       "      <td>20</td>\n",
       "      <td>Sim</td>\n",
       "      <td>Não</td>\n",
       "      <td>Negar</td>\n",
       "    </tr>\n",
       "  </tbody>\n",
       "</table>\n",
       "</div>"
      ],
      "text/plain": [
       "   id_cliente  idade  saldo_atual  divida_atual  renda_anual  \\\n",
       "0        1767     21   278.172008       2577.05  24196.89636   \n",
       "1       11920     40   268.874152       2465.39  19227.37796   \n",
       "2        8910     36   446.643127       1055.29  42822.28223   \n",
       "3        4964     58   321.141267        703.05  51786.82600   \n",
       "4       10100     35   428.716114        891.29  44626.85346   \n",
       "\n",
       "   valor_em_investimentos  taxa_utilizacao_credito  num_emprestimos  \\\n",
       "0              104.306544                31.038763                6   \n",
       "1               69.858778                36.917093                5   \n",
       "2              134.201478                34.561714                0   \n",
       "3              297.350067                31.493561                0   \n",
       "4              134.201478                28.028887                2   \n",
       "\n",
       "   num_contas_bancarias  num_cartoes_credito  dias_atraso_dt_venc  \\\n",
       "0                     5                    7                   21   \n",
       "1                     8                    5                   40   \n",
       "2                     3                    6                   26   \n",
       "3                     3                    7                   12   \n",
       "4                     8                    7                   24   \n",
       "\n",
       "   num_pgtos_atrasados  num_consultas_credito  taxa_juros investe_exterior  \\\n",
       "0                   14                      9          15              Não   \n",
       "1                   23                     10          18              Não   \n",
       "2                   13                      3          15              Sim   \n",
       "3                    7                      2           1              Sim   \n",
       "4                   10                      8          20              Sim   \n",
       "\n",
       "  pessoa_polit_exp limite_adicional  \n",
       "0              Não            Negar  \n",
       "1              Não            Negar  \n",
       "2              Não            Negar  \n",
       "3              Não            Negar  \n",
       "4              Não            Negar  "
      ]
     },
     "execution_count": 12,
     "metadata": {},
     "output_type": "execute_result"
    }
   ],
   "source": [
    "# Checking our dataframe\n",
    "df.head()"
   ]
  },
  {
   "cell_type": "code",
   "execution_count": 13,
   "id": "4bdaf7de",
   "metadata": {
    "ExecuteTime": {
     "end_time": "2023-02-02T22:53:45.912846Z",
     "start_time": "2023-02-02T22:53:45.900877Z"
    }
   },
   "outputs": [],
   "source": [
    "# Create an empty dataframe that will receive the k and the metrics for each k value\n",
    "df2 = pd.DataFrame()\n",
    "\n",
    "# Separaring predictor and predicted variables\n",
    "features = df.select_dtypes(exclude=\"object\").columns.to_list()\n",
    "labels = \"limite_adicional\"\n",
    "\n",
    "# Creating datasets\n",
    "x_train = df.loc[:, features]\n",
    "y_train = df.loc[:, label].values"
   ]
  },
  {
   "cell_type": "code",
   "execution_count": 46,
   "id": "0a375406",
   "metadata": {
    "ExecuteTime": {
     "end_time": "2023-02-02T23:02:48.584544Z",
     "start_time": "2023-02-02T23:02:47.845898Z"
    }
   },
   "outputs": [
    {
     "data": {
      "text/html": [
       "<div>\n",
       "<style scoped>\n",
       "    .dataframe tbody tr th:only-of-type {\n",
       "        vertical-align: middle;\n",
       "    }\n",
       "\n",
       "    .dataframe tbody tr th {\n",
       "        vertical-align: top;\n",
       "    }\n",
       "\n",
       "    .dataframe thead th {\n",
       "        text-align: right;\n",
       "    }\n",
       "</style>\n",
       "<table border=\"1\" class=\"dataframe\">\n",
       "  <thead>\n",
       "    <tr style=\"text-align: right;\">\n",
       "      <th></th>\n",
       "      <th>k</th>\n",
       "      <th>accuracy</th>\n",
       "      <th>precision</th>\n",
       "      <th>recall</th>\n",
       "    </tr>\n",
       "  </thead>\n",
       "  <tbody>\n",
       "    <tr>\n",
       "      <th>0</th>\n",
       "      <td>3.0</td>\n",
       "      <td>0.886211</td>\n",
       "      <td>0.720833</td>\n",
       "      <td>0.459801</td>\n",
       "    </tr>\n",
       "  </tbody>\n",
       "</table>\n",
       "</div>"
      ],
      "text/plain": [
       "     k  accuracy  precision    recall\n",
       "0  3.0  0.886211   0.720833  0.459801"
      ]
     },
     "execution_count": 46,
     "metadata": {},
     "output_type": "execute_result"
    }
   ],
   "source": [
    "# For k = 3\n",
    "\n",
    "# Create KNN object\n",
    "knn_classifier = KNeighborsClassifier(n_neighbors=3)\n",
    "\n",
    "# Train the momdel\n",
    "knn_classifier.fit(x_train, y_train)\n",
    "\n",
    "# Make prediction\n",
    "y_pred = knn_classifier.predict(x_train)\n",
    "\n",
    "# Metrics\n",
    "acc3 = metrics.accuracy_score(y_train, y_pred)\n",
    "prec3 = metrics.precision_score(y_train, y_pred, pos_label='Conceder')\n",
    "rec3 = metrics.recall_score(y_train, y_pred, pos_label='Conceder')\n",
    "\n",
    "# Create a list that receives the metrics\n",
    "data = [3, acc3, prec3, rec3]\n",
    "\n",
    "# Create dataframe ffrom metrics\n",
    "df2 = pd.DataFrame(data).T\n",
    "\n",
    "# Renames dataframe axis\n",
    "df2.rename(columns={0: 'k', 1: 'accuracy', 2: 'precision', 3: 'recall'}, inplace=True)\n",
    "df2"
   ]
  },
  {
   "cell_type": "code",
   "execution_count": 49,
   "id": "0e9272fe",
   "metadata": {
    "ExecuteTime": {
     "end_time": "2023-02-02T23:04:58.867839Z",
     "start_time": "2023-02-02T23:04:58.081326Z"
    }
   },
   "outputs": [
    {
     "data": {
      "text/html": [
       "<div>\n",
       "<style scoped>\n",
       "    .dataframe tbody tr th:only-of-type {\n",
       "        vertical-align: middle;\n",
       "    }\n",
       "\n",
       "    .dataframe tbody tr th {\n",
       "        vertical-align: top;\n",
       "    }\n",
       "\n",
       "    .dataframe thead th {\n",
       "        text-align: right;\n",
       "    }\n",
       "</style>\n",
       "<table border=\"1\" class=\"dataframe\">\n",
       "  <thead>\n",
       "    <tr style=\"text-align: right;\">\n",
       "      <th></th>\n",
       "      <th>k</th>\n",
       "      <th>accuracy</th>\n",
       "      <th>precision</th>\n",
       "      <th>recall</th>\n",
       "    </tr>\n",
       "  </thead>\n",
       "  <tbody>\n",
       "    <tr>\n",
       "      <th>0</th>\n",
       "      <td>3.0</td>\n",
       "      <td>0.886211</td>\n",
       "      <td>0.720833</td>\n",
       "      <td>0.459801</td>\n",
       "    </tr>\n",
       "    <tr>\n",
       "      <th>0</th>\n",
       "      <td>5.0</td>\n",
       "      <td>0.863789</td>\n",
       "      <td>0.664075</td>\n",
       "      <td>0.283721</td>\n",
       "    </tr>\n",
       "    <tr>\n",
       "      <th>0</th>\n",
       "      <td>7.0</td>\n",
       "      <td>0.852947</td>\n",
       "      <td>0.604247</td>\n",
       "      <td>0.207973</td>\n",
       "    </tr>\n",
       "    <tr>\n",
       "      <th>0</th>\n",
       "      <td>5.0</td>\n",
       "      <td>0.863789</td>\n",
       "      <td>0.664075</td>\n",
       "      <td>0.283721</td>\n",
       "    </tr>\n",
       "  </tbody>\n",
       "</table>\n",
       "</div>"
      ],
      "text/plain": [
       "     k  accuracy  precision    recall\n",
       "0  3.0  0.886211   0.720833  0.459801\n",
       "0  5.0  0.863789   0.664075  0.283721\n",
       "0  7.0  0.852947   0.604247  0.207973\n",
       "0  5.0  0.863789   0.664075  0.283721"
      ]
     },
     "execution_count": 49,
     "metadata": {},
     "output_type": "execute_result"
    }
   ],
   "source": [
    "# For k = 5\n",
    "\n",
    "knn_classifier = KNeighborsClassifier(n_neighbors=5)\n",
    "\n",
    "knn_classifier.fit(x_train, y_train)\n",
    "\n",
    "y_pred = knn_classifier.predict(x_train)\n",
    "\n",
    "# Metrics\n",
    "acc5 = metrics.accuracy_score(y_train, y_pred)\n",
    "prec5 = metrics.precision_score(y_train, y_pred, pos_label='Conceder')\n",
    "rec5 = metrics.recall_score(y_train, y_pred, pos_label='Conceder')\n",
    "\n",
    "data = [5, acc5, prec5, rec5]\n",
    "\n",
    "# Create dataframe from metrics\n",
    "aux = pd.DataFrame(data).T\n",
    "\n",
    "# Renames dataframe axis\n",
    "aux.rename(columns={0: 'k', 1: 'accuracy', 2: 'precision', 3: 'recall'}, inplace=True)\n",
    "\n",
    "# Create an object that receives both dataframes\n",
    "frames = [df2, aux]\n",
    "\n",
    "# Concat and save to other variable\n",
    "df2 = pd.concat(frames)\n",
    "df2"
   ]
  },
  {
   "cell_type": "code",
   "execution_count": 50,
   "id": "60143636",
   "metadata": {
    "ExecuteTime": {
     "end_time": "2023-02-02T23:04:59.681118Z",
     "start_time": "2023-02-02T23:04:58.872142Z"
    }
   },
   "outputs": [],
   "source": [
    "# For k=7\n",
    "\n",
    "knn_classifier = KNeighborsClassifier(n_neighbors=7)\n",
    "\n",
    "knn_classifier.fit(x_train, y_train)\n",
    "\n",
    "y_pred = knn_classifier.predict(x_train)\n",
    "\n",
    "# Metrics\n",
    "acc7 = metrics.accuracy_score(y_train, y_pred)\n",
    "prec7 = metrics.precision_score(y_train, y_pred, pos_label='Conceder')\n",
    "rec7 = metrics.recall_score(y_train, y_pred, pos_label='Conceder')\n",
    "\n",
    "data = [7, acc7, prec7, rec7]\n",
    "\n",
    "# Create dataframe ffrom metrics\n",
    "aux = pd.DataFrame(data).T\n",
    "\n",
    "# Renames dataframe axis\n",
    "aux.rename(columns={0: 'k', 1: 'accuracy', 2: 'precision', 3: 'recall'}, inplace=True)\n",
    "\n",
    "# Create an object that receives both dataframes\n",
    "frames = [df2, aux]\n",
    "\n",
    "# Concat and save to other variable\n",
    "df2 = pd.concat(frames)"
   ]
  },
  {
   "cell_type": "code",
   "execution_count": 51,
   "id": "f2b84b49",
   "metadata": {
    "ExecuteTime": {
     "end_time": "2023-02-02T23:05:00.439639Z",
     "start_time": "2023-02-02T23:04:59.683069Z"
    }
   },
   "outputs": [],
   "source": [
    "# For k=9\n",
    "\n",
    "knn_classifier = KNeighborsClassifier(n_neighbors=9)\n",
    "\n",
    "knn_classifier.fit(x_train, y_train)\n",
    "\n",
    "y_pred = knn_classifier.predict(x_train)\n",
    "\n",
    "# Metrics\n",
    "acc9 = metrics.accuracy_score(y_train, y_pred)\n",
    "prec9 = metrics.precision_score(y_train, y_pred, pos_label='Conceder')\n",
    "rec9 = metrics.recall_score(y_train, y_pred, pos_label='Conceder')\n",
    "\n",
    "data = [9, acc9, prec9, rec9]\n",
    "\n",
    "# Create dataframe ffrom metrics\n",
    "aux = pd.DataFrame(data).T\n",
    "\n",
    "# Renames dataframe axis\n",
    "aux.rename(columns={0: 'k', 1: 'accuracy', 2: 'precision', 3: 'recall'}, inplace=True)\n",
    "\n",
    "# Create an object that receives both dataframes\n",
    "frames = [df2, aux]\n",
    "\n",
    "# Concat and save to other variable\n",
    "df2 = pd.concat(frames)"
   ]
  },
  {
   "cell_type": "code",
   "execution_count": 52,
   "id": "64bd3683",
   "metadata": {
    "ExecuteTime": {
     "end_time": "2023-02-02T23:05:01.232327Z",
     "start_time": "2023-02-02T23:05:00.442560Z"
    }
   },
   "outputs": [],
   "source": [
    "# For k=11\n",
    "\n",
    "knn_classifier = KNeighborsClassifier(n_neighbors=11)\n",
    "\n",
    "knn_classifier.fit(x_train, y_train)\n",
    "\n",
    "y_pred = knn_classifier.predict(x_train)\n",
    "\n",
    "# Metrics\n",
    "acc11 = metrics.accuracy_score(y_train, y_pred)\n",
    "prec11 = metrics.precision_score(y_train, y_pred, pos_label='Conceder')\n",
    "rec11 = metrics.recall_score(y_train, y_pred, pos_label='Conceder')\n",
    "\n",
    "data = [11, acc11, prec11, rec11]\n",
    "\n",
    "# Create dataframe ffrom metrics\n",
    "aux = pd.DataFrame(data).T\n",
    "\n",
    "# Renames dataframe axis\n",
    "aux.rename(columns={0: 'k', 1: 'accuracy', 2: 'precision', 3: 'recall'}, inplace=True)\n",
    "\n",
    "# Create an object that receives both dataframes\n",
    "frames = [df2, aux]\n",
    "\n",
    "# Concat and save to other variable\n",
    "df2 = pd.concat(frames)"
   ]
  },
  {
   "cell_type": "code",
   "execution_count": 53,
   "id": "32523541",
   "metadata": {
    "ExecuteTime": {
     "end_time": "2023-02-02T23:05:01.993201Z",
     "start_time": "2023-02-02T23:05:01.234324Z"
    }
   },
   "outputs": [],
   "source": [
    "# For k=13\n",
    "\n",
    "knn_classifier = KNeighborsClassifier(n_neighbors=13)\n",
    "\n",
    "knn_classifier.fit(x_train, y_train)\n",
    "\n",
    "y_pred = knn_classifier.predict(x_train)\n",
    "\n",
    "# Metrics\n",
    "acc13 = metrics.accuracy_score(y_train, y_pred)\n",
    "prec13 = metrics.precision_score(y_train, y_pred, pos_label='Conceder')\n",
    "rec13 = metrics.recall_score(y_train, y_pred, pos_label='Conceder')\n",
    "\n",
    "data = [13, acc13, prec13, rec13]\n",
    "\n",
    "# Create dataframe ffrom metrics\n",
    "aux = pd.DataFrame(data).T\n",
    "\n",
    "# Renames dataframe axis\n",
    "aux.rename(columns={0: 'k', 1: 'accuracy', 2: 'precision', 3: 'recall'}, inplace=True)\n",
    "\n",
    "# Create an object that receives both dataframes\n",
    "frames = [df2, aux]\n",
    "\n",
    "# Concat and save to other variable\n",
    "df2 = pd.concat(frames)"
   ]
  },
  {
   "cell_type": "code",
   "execution_count": 54,
   "id": "8e9f36e5",
   "metadata": {
    "ExecuteTime": {
     "end_time": "2023-02-02T23:05:02.794655Z",
     "start_time": "2023-02-02T23:05:01.995182Z"
    }
   },
   "outputs": [],
   "source": [
    "# For k=15\n",
    "\n",
    "knn_classifier = KNeighborsClassifier(n_neighbors=15)\n",
    "\n",
    "knn_classifier.fit(x_train, y_train)\n",
    "\n",
    "y_pred = knn_classifier.predict(x_train)\n",
    "\n",
    "# Metrics\n",
    "acc15 = metrics.accuracy_score(y_train, y_pred)\n",
    "prec15 = metrics.precision_score(y_train, y_pred, pos_label='Conceder')\n",
    "rec15 = metrics.recall_score(y_train, y_pred, pos_label='Conceder')\n",
    "\n",
    "data = [15, acc15, prec15, rec15]\n",
    "\n",
    "# Create dataframe ffrom metrics\n",
    "aux = pd.DataFrame(data).T\n",
    "\n",
    "# Renames dataframe axis\n",
    "aux.rename(columns={0: 'k', 1: 'accuracy', 2: 'precision', 3: 'recall'}, inplace=True)\n",
    "\n",
    "# Create an object that receives both dataframes\n",
    "frames = [df2, aux]\n",
    "\n",
    "# Concat and save to other variable\n",
    "df2 = pd.concat(frames)"
   ]
  },
  {
   "cell_type": "code",
   "execution_count": 55,
   "id": "337e98c4",
   "metadata": {
    "ExecuteTime": {
     "end_time": "2023-02-02T23:05:03.558445Z",
     "start_time": "2023-02-02T23:05:02.796652Z"
    }
   },
   "outputs": [],
   "source": [
    "# For k=17\n",
    "\n",
    "knn_classifier = KNeighborsClassifier(n_neighbors=17)\n",
    "\n",
    "knn_classifier.fit(x_train, y_train)\n",
    "\n",
    "y_pred = knn_classifier.predict(x_train)\n",
    "\n",
    "# Metrics\n",
    "acc17 = metrics.accuracy_score(y_train, y_pred)\n",
    "prec17 = metrics.precision_score(y_train, y_pred, pos_label='Conceder')\n",
    "rec17 = metrics.recall_score(y_train, y_pred, pos_label='Conceder')\n",
    "\n",
    "data = [17, acc17, prec17, rec17]\n",
    "\n",
    "# Create dataframe ffrom metrics\n",
    "aux = pd.DataFrame(data).T\n",
    "\n",
    "# Renames dataframe axis\n",
    "aux.rename(columns={0: 'k', 1: 'accuracy', 2: 'precision', 3: 'recall'}, inplace=True)\n",
    "\n",
    "# Create an object that receives both dataframes\n",
    "frames = [df2, aux]\n",
    "\n",
    "# Concat and save to other variable\n",
    "df2 = pd.concat(frames)"
   ]
  },
  {
   "cell_type": "code",
   "execution_count": 56,
   "id": "45b63f84",
   "metadata": {
    "ExecuteTime": {
     "end_time": "2023-02-02T23:05:04.342953Z",
     "start_time": "2023-02-02T23:05:03.560974Z"
    }
   },
   "outputs": [],
   "source": [
    "# For k=19\n",
    "\n",
    "knn_classifier = KNeighborsClassifier(n_neighbors=19)\n",
    "\n",
    "knn_classifier.fit(x_train, y_train)\n",
    "\n",
    "y_pred = knn_classifier.predict(x_train)\n",
    "\n",
    "# Metrics\n",
    "acc19 = metrics.accuracy_score(y_train, y_pred)\n",
    "prec19 = metrics.precision_score(y_train, y_pred, pos_label='Conceder')\n",
    "rec19 = metrics.recall_score(y_train, y_pred, pos_label='Conceder')\n",
    "\n",
    "data = [19, acc19, prec19, rec19]\n",
    "\n",
    "# Create dataframe ffrom metrics\n",
    "aux = pd.DataFrame(data).T\n",
    "\n",
    "# Renames dataframe axis\n",
    "aux.rename(columns={0: 'k', 1: 'accuracy', 2: 'precision', 3: 'recall'}, inplace=True)\n",
    "\n",
    "# Create an object that receives both dataframes\n",
    "frames = [df2, aux]\n",
    "\n",
    "# Concat and save to other variable\n",
    "df2 = pd.concat(frames)"
   ]
  },
  {
   "cell_type": "code",
   "execution_count": 57,
   "id": "b465690c",
   "metadata": {
    "ExecuteTime": {
     "end_time": "2023-02-02T23:05:05.191927Z",
     "start_time": "2023-02-02T23:05:04.345785Z"
    }
   },
   "outputs": [],
   "source": [
    "# For k=21\n",
    "\n",
    "knn_classifier = KNeighborsClassifier(n_neighbors=21)\n",
    "\n",
    "knn_classifier.fit(x_train, y_train)\n",
    "\n",
    "y_pred = knn_classifier.predict(x_train)\n",
    "\n",
    "# Metrics\n",
    "acc21 = metrics.accuracy_score(y_train, y_pred)\n",
    "prec21 = metrics.precision_score(y_train, y_pred, pos_label='Conceder')\n",
    "rec21 = metrics.recall_score(y_train, y_pred, pos_label='Conceder')\n",
    "\n",
    "data = [21, acc21, prec21, rec21]\n",
    "\n",
    "# Create dataframe ffrom metrics\n",
    "aux = pd.DataFrame(data).T\n",
    "\n",
    "# Renames dataframe axis\n",
    "aux.rename(columns={0: 'k', 1: 'accuracy', 2: 'precision', 3: 'recall'}, inplace=True)\n",
    "\n",
    "# Create an object that receives both dataframes\n",
    "frames = [df2, aux]\n",
    "\n",
    "# Concat and save to other variable\n",
    "df2 = pd.concat(frames)"
   ]
  },
  {
   "cell_type": "code",
   "execution_count": 64,
   "id": "a84e32c1",
   "metadata": {
    "ExecuteTime": {
     "end_time": "2023-02-02T23:05:56.124209Z",
     "start_time": "2023-02-02T23:05:56.094195Z"
    }
   },
   "outputs": [
    {
     "data": {
      "text/html": [
       "<div>\n",
       "<style scoped>\n",
       "    .dataframe tbody tr th:only-of-type {\n",
       "        vertical-align: middle;\n",
       "    }\n",
       "\n",
       "    .dataframe tbody tr th {\n",
       "        vertical-align: top;\n",
       "    }\n",
       "\n",
       "    .dataframe thead th {\n",
       "        text-align: right;\n",
       "    }\n",
       "</style>\n",
       "<table border=\"1\" class=\"dataframe\">\n",
       "  <thead>\n",
       "    <tr style=\"text-align: right;\">\n",
       "      <th></th>\n",
       "      <th>k</th>\n",
       "      <th>accuracy</th>\n",
       "      <th>precision</th>\n",
       "      <th>recall</th>\n",
       "    </tr>\n",
       "  </thead>\n",
       "  <tbody>\n",
       "    <tr>\n",
       "      <th>0</th>\n",
       "      <td>3.0</td>\n",
       "      <td>0.886211</td>\n",
       "      <td>0.720833</td>\n",
       "      <td>0.459801</td>\n",
       "    </tr>\n",
       "    <tr>\n",
       "      <th>1</th>\n",
       "      <td>5.0</td>\n",
       "      <td>0.863789</td>\n",
       "      <td>0.664075</td>\n",
       "      <td>0.283721</td>\n",
       "    </tr>\n",
       "    <tr>\n",
       "      <th>2</th>\n",
       "      <td>7.0</td>\n",
       "      <td>0.852947</td>\n",
       "      <td>0.604247</td>\n",
       "      <td>0.207973</td>\n",
       "    </tr>\n",
       "    <tr>\n",
       "      <th>3</th>\n",
       "      <td>5.0</td>\n",
       "      <td>0.863789</td>\n",
       "      <td>0.664075</td>\n",
       "      <td>0.283721</td>\n",
       "    </tr>\n",
       "    <tr>\n",
       "      <th>4</th>\n",
       "      <td>7.0</td>\n",
       "      <td>0.852947</td>\n",
       "      <td>0.604247</td>\n",
       "      <td>0.207973</td>\n",
       "    </tr>\n",
       "    <tr>\n",
       "      <th>5</th>\n",
       "      <td>9.0</td>\n",
       "      <td>0.852000</td>\n",
       "      <td>0.615385</td>\n",
       "      <td>0.175415</td>\n",
       "    </tr>\n",
       "    <tr>\n",
       "      <th>6</th>\n",
       "      <td>11.0</td>\n",
       "      <td>0.850526</td>\n",
       "      <td>0.604938</td>\n",
       "      <td>0.162791</td>\n",
       "    </tr>\n",
       "    <tr>\n",
       "      <th>7</th>\n",
       "      <td>13.0</td>\n",
       "      <td>0.846842</td>\n",
       "      <td>0.569444</td>\n",
       "      <td>0.136213</td>\n",
       "    </tr>\n",
       "    <tr>\n",
       "      <th>8</th>\n",
       "      <td>15.0</td>\n",
       "      <td>0.846421</td>\n",
       "      <td>0.572327</td>\n",
       "      <td>0.120930</td>\n",
       "    </tr>\n",
       "    <tr>\n",
       "      <th>9</th>\n",
       "      <td>17.0</td>\n",
       "      <td>0.845368</td>\n",
       "      <td>0.562500</td>\n",
       "      <td>0.107641</td>\n",
       "    </tr>\n",
       "    <tr>\n",
       "      <th>10</th>\n",
       "      <td>19.0</td>\n",
       "      <td>0.845789</td>\n",
       "      <td>0.577519</td>\n",
       "      <td>0.099003</td>\n",
       "    </tr>\n",
       "    <tr>\n",
       "      <th>11</th>\n",
       "      <td>21.0</td>\n",
       "      <td>0.844316</td>\n",
       "      <td>0.556522</td>\n",
       "      <td>0.085050</td>\n",
       "    </tr>\n",
       "  </tbody>\n",
       "</table>\n",
       "</div>"
      ],
      "text/plain": [
       "       k  accuracy  precision    recall\n",
       "0    3.0  0.886211   0.720833  0.459801\n",
       "1    5.0  0.863789   0.664075  0.283721\n",
       "2    7.0  0.852947   0.604247  0.207973\n",
       "3    5.0  0.863789   0.664075  0.283721\n",
       "4    7.0  0.852947   0.604247  0.207973\n",
       "5    9.0  0.852000   0.615385  0.175415\n",
       "6   11.0  0.850526   0.604938  0.162791\n",
       "7   13.0  0.846842   0.569444  0.136213\n",
       "8   15.0  0.846421   0.572327  0.120930\n",
       "9   17.0  0.845368   0.562500  0.107641\n",
       "10  19.0  0.845789   0.577519  0.099003\n",
       "11  21.0  0.844316   0.556522  0.085050"
      ]
     },
     "execution_count": 64,
     "metadata": {},
     "output_type": "execute_result"
    }
   ],
   "source": [
    "#  Adjusting Index\n",
    "df2.index = range(0, len(df2))\n",
    "\n",
    "# Final Result\n",
    "df2"
   ]
  },
  {
   "cell_type": "code",
   "execution_count": 83,
   "id": "3ff3fb98",
   "metadata": {
    "ExecuteTime": {
     "end_time": "2023-02-02T23:16:04.702268Z",
     "start_time": "2023-02-02T23:16:04.279258Z"
    },
    "scrolled": false
   },
   "outputs": [
    {
     "data": {
      "image/png": "[encoded data removed]",
      "text/plain": [
       "<Figure size 864x576 with 1 Axes>"
      ]
     },
     "metadata": {
      "needs_background": "light"
     },
     "output_type": "display_data"
    }
   ],
   "source": [
    "# Chart\n",
    "\n",
    "plt.figure(figsize=(12, 8))\n",
    "sns.lineplot(data=df2, x='k', y='accuracy', legend='full')\n",
    "sns.lineplot(data=df2, x='k', y='precision')\n",
    "sns.lineplot(data=df2, x='k', y='recall')\n",
    "\n",
    "plt.ylabel(\"%percentage\")\n",
    "plt.xlabel(\"number of K\")\n",
    "\n",
    "ticks =  [3, 5, 7, 9, 11, 13, 15, 17, 19, 21]\n",
    "\n",
    "plt.xticks(ticks=ticks)\n",
    "\n",
    "plt.show()"
   ]
  },
  {
   "cell_type": "markdown",
   "id": "0e9c1917",
   "metadata": {},
   "source": [
    "Blue = Accuracy  \n",
    "Orange = Precision  \n",
    "Green = Recall  \n",
    "\n",
    "We can see that accuracy is slightly higher when the number of K is smaller. On the other hand, precision and accuracy are much lower, and also show significant drops right from the start (from k=3 to k=5). Thus, the best value for K would be 3. \n",
    "\n",
    "Importantly, even with K = 3, we have an accuracy that can improve (72% of the attempts to predict the positive class were correct), and a very low recall, I would say unacceptable (about 45% of all existing values of the positive class were correct). Anyway, as it turns out, we are doing well in getting a high volume of the positive class right, because it is more representative, but we should be doing well for the negative class, which means that if the business objective is to save money by denying credit to \"bad payers\", this objective would be well fulfilled. Now, if it is the case that the goal is to expand the base to release credit, the algorithm would have to be well worked out."
   ]
  },
  {
   "cell_type": "markdown",
   "id": "de36413c",
   "metadata": {},
   "source": [
    "### 3.2 What is the main problem with using the accuracy metric? Write a hypothetical example in which the problem occurs."
   ]
  },
  {
   "cell_type": "markdown",
   "id": "f12ee69a",
   "metadata": {},
   "source": [
    "Let's say we have a business problem, where we use a classification algorithm, to know what discount we are going to apply for a customer. Despite being a value, there are discount classes (10, 20, 30%...). Let's assume that, in the training examples, we have the representativeness divided into 85%, 10% and 5%. When we run the algorithm and it brings a high result in accuracy, this result can be due to the fact that there are many hits in the predominant class, i.e., the data set used for training is unbalanced.\n",
    "\n",
    "The problem with this is that we may be doing well in absolute numbers, but we may be hiding the performance result in other classes, which may be well below, and this is a problem because imagine that we would have the possibility to provide a 20% discount to a customer but we classify it as 10%. This customer could give up the purchase, be dissatisfied, he could use the 20% coupon to buy a product 3x more expensive, so in the end the company would have a higher margin.\n",
    "\n",
    "So the problem of accuracy, basically occurs if we have unbalanced data, which would mask the performance results of other classes, which may be critical to the business."
   ]
  },
  {
   "cell_type": "markdown",
   "id": "62422629",
   "metadata": {
    "ExecuteTime": {
     "end_time": "2023-02-02T23:29:55.378368Z",
     "start_time": "2023-02-02T23:29:55.364371Z"
    }
   },
   "source": [
    "### 3.3 Explain with a short text illustrating the difference between Precision and Recall metrics and showing when one should be chosen over the other."
   ]
  },
  {
   "cell_type": "markdown",
   "id": "a5d9966d",
   "metadata": {},
   "source": [
    "Precision will measure the algorithm's accuracy in getting a given class right, given all the classification attempts it has made. For example, if the algorithm made 230 predictions of class A, and of these 170 were correct and 60 incorrect (false positive), we have an accuracy of 73%.\n",
    "\n",
    "Recall, on the other hand, measures, within all examples that exist of the class, how many the algorithm got right. For example, this algorithm that got 200 examples of class A right, it got this result over 250 examples that exist of this class. With this, we have 80% recall.\n",
    "\n",
    "When to use one or the other depends on the problem and the business strategy. Recall can be more interesting when it is critical to get the positive class right, for example, in a fraud case, where we transform the positive class into \"fraudster\". Failure to hit the available examples in the base can mean letting a fraudster through, so it is essential to hit as many of the available examples as possible.\n",
    "\n",
    "Precision, on the other hand, can be used for similar situations, but when the goal is not the same. In the example above, we are more concerned about not losing money, so we don't want to miss a fraudster under any circumstances. But what if our goal was to scale the business, and we were actually looking to expand the customer base. Our positive class would be non-fraudulent, and for us it would be most important, of all the predictions we are making of this class, to get as much right as possible, so that we can have a new customer, interacting with our product, and not have their experience impacted with a false positive (in this case, fraudulent).\n",
    "\n",
    "In short, one or the other will be chosen according to the goal and strategy, always weighing the tradeoff between false positives and false negatives."
   ]
  },
  {
   "cell_type": "markdown",
   "id": "2eea9b67",
   "metadata": {},
   "source": [
    "### 3.4 Write a code snippet that automates the training of the KNN algorithm in order to find the best value for K from exercise 2."
   ]
  },
  {
   "cell_type": "code",
   "execution_count": 111,
   "id": "13ac1a70",
   "metadata": {
    "ExecuteTime": {
     "end_time": "2023-02-03T00:47:11.101500Z",
     "start_time": "2023-02-03T00:47:11.071775Z"
    }
   },
   "outputs": [],
   "source": [
    "def find_k(dataset, initial_k, last_k, predicted_variable, pos_label):\n",
    "    \n",
    "    # Assert if K values are odd\n",
    "    try:\n",
    "        assert initial_k % 2 != 0\n",
    "        assert last_k % 2 != 0\n",
    "    \n",
    "    except(AssertionError):\n",
    "        print(\"For a good operation of K-Nearest Neighbor, select odd values for K\")\n",
    "        \n",
    "    # Define K interval\n",
    "    k_values = list(range(k1, k2+1, 2)) \n",
    "    \n",
    "    # Create an empty dataframe that will receive the k and the metrics for each k value\n",
    "    df1 = pd.DataFrame()\n",
    "\n",
    "    # Separaring predictor and predicted variables\n",
    "    features = dataset.select_dtypes(exclude=\"object\").columns.to_list()\n",
    "    labels = predicted_variable\n",
    "\n",
    "    # Creating train datasets\n",
    "    x_train = dataset.loc[:, features]\n",
    "    y_train = dataset.loc[:, label].values\n",
    "    \n",
    "    for i in k_values:\n",
    "        knn_classifier = KNeighborsClassifier(n_neighbors=i)\n",
    "\n",
    "        knn_classifier.fit(x_train, y_train)\n",
    "\n",
    "        y_pred = knn_classifier.predict(x_train)\n",
    "\n",
    "        # Metrics\n",
    "        acc = metrics.accuracy_score(y_train, y_pred)\n",
    "        prec = metrics.precision_score(y_train, y_pred, pos_label=pos_label, zero_division=0)\n",
    "        rec = metrics.recall_score(y_train, y_pred, pos_label=pos_label)\n",
    "\n",
    "        data = [i, acc, prec, rec]\n",
    "\n",
    "        # Create dataframe from metrics\n",
    "        aux = pd.DataFrame(data).T\n",
    "\n",
    "        # Renames dataframe columns\n",
    "        aux.rename(columns={0: 'k', 1: 'accuracy', 2: 'precision', 3: 'recall'}, inplace=True)\n",
    "\n",
    "        # Create an object that receives both dataframes\n",
    "        frames = [df1, aux]\n",
    "\n",
    "        # Concat and save to other variable\n",
    "        df1 = pd.concat(frames)\n",
    "        \n",
    "        \n",
    "    return df1"
   ]
  },
  {
   "cell_type": "code",
   "execution_count": 112,
   "id": "7c38122c",
   "metadata": {
    "ExecuteTime": {
     "end_time": "2023-02-03T00:47:17.470107Z",
     "start_time": "2023-02-03T00:47:13.928618Z"
    }
   },
   "outputs": [
    {
     "data": {
      "text/html": [
       "<div>\n",
       "<style scoped>\n",
       "    .dataframe tbody tr th:only-of-type {\n",
       "        vertical-align: middle;\n",
       "    }\n",
       "\n",
       "    .dataframe tbody tr th {\n",
       "        vertical-align: top;\n",
       "    }\n",
       "\n",
       "    .dataframe thead th {\n",
       "        text-align: right;\n",
       "    }\n",
       "</style>\n",
       "<table border=\"1\" class=\"dataframe\">\n",
       "  <thead>\n",
       "    <tr style=\"text-align: right;\">\n",
       "      <th></th>\n",
       "      <th>k</th>\n",
       "      <th>accuracy</th>\n",
       "      <th>precision</th>\n",
       "      <th>recall</th>\n",
       "    </tr>\n",
       "  </thead>\n",
       "  <tbody>\n",
       "    <tr>\n",
       "      <th>0</th>\n",
       "      <td>3.0</td>\n",
       "      <td>0.872842</td>\n",
       "      <td>0.724660</td>\n",
       "      <td>0.318272</td>\n",
       "    </tr>\n",
       "    <tr>\n",
       "      <th>0</th>\n",
       "      <td>5.0</td>\n",
       "      <td>0.852421</td>\n",
       "      <td>0.659443</td>\n",
       "      <td>0.141528</td>\n",
       "    </tr>\n",
       "    <tr>\n",
       "      <th>0</th>\n",
       "      <td>7.0</td>\n",
       "      <td>0.848526</td>\n",
       "      <td>0.683333</td>\n",
       "      <td>0.081728</td>\n",
       "    </tr>\n",
       "    <tr>\n",
       "      <th>0</th>\n",
       "      <td>9.0</td>\n",
       "      <td>0.844105</td>\n",
       "      <td>0.639535</td>\n",
       "      <td>0.036545</td>\n",
       "    </tr>\n",
       "    <tr>\n",
       "      <th>0</th>\n",
       "      <td>11.0</td>\n",
       "      <td>0.842632</td>\n",
       "      <td>0.625000</td>\n",
       "      <td>0.016611</td>\n",
       "    </tr>\n",
       "    <tr>\n",
       "      <th>0</th>\n",
       "      <td>13.0</td>\n",
       "      <td>0.841895</td>\n",
       "      <td>0.565217</td>\n",
       "      <td>0.008638</td>\n",
       "    </tr>\n",
       "    <tr>\n",
       "      <th>0</th>\n",
       "      <td>15.0</td>\n",
       "      <td>0.841474</td>\n",
       "      <td>0.428571</td>\n",
       "      <td>0.001993</td>\n",
       "    </tr>\n",
       "    <tr>\n",
       "      <th>0</th>\n",
       "      <td>17.0</td>\n",
       "      <td>0.841684</td>\n",
       "      <td>0.666667</td>\n",
       "      <td>0.001329</td>\n",
       "    </tr>\n",
       "    <tr>\n",
       "      <th>0</th>\n",
       "      <td>19.0</td>\n",
       "      <td>0.841789</td>\n",
       "      <td>1.000000</td>\n",
       "      <td>0.001329</td>\n",
       "    </tr>\n",
       "    <tr>\n",
       "      <th>0</th>\n",
       "      <td>21.0</td>\n",
       "      <td>0.841579</td>\n",
       "      <td>0.000000</td>\n",
       "      <td>0.000000</td>\n",
       "    </tr>\n",
       "  </tbody>\n",
       "</table>\n",
       "</div>"
      ],
      "text/plain": [
       "      k  accuracy  precision    recall\n",
       "0   3.0  0.872842   0.724660  0.318272\n",
       "0   5.0  0.852421   0.659443  0.141528\n",
       "0   7.0  0.848526   0.683333  0.081728\n",
       "0   9.0  0.844105   0.639535  0.036545\n",
       "0  11.0  0.842632   0.625000  0.016611\n",
       "0  13.0  0.841895   0.565217  0.008638\n",
       "0  15.0  0.841474   0.428571  0.001993\n",
       "0  17.0  0.841684   0.666667  0.001329\n",
       "0  19.0  0.841789   1.000000  0.001329\n",
       "0  21.0  0.841579   0.000000  0.000000"
      ]
     },
     "execution_count": 112,
     "metadata": {},
     "output_type": "execute_result"
    }
   ],
   "source": [
    "df3 = find_k(df1, 3, 21, \"limite_adicional\", \"Conceder\")\n",
    "df3"
   ]
  },
  {
   "cell_type": "markdown",
   "id": "bf530455",
   "metadata": {},
   "source": [
    "### 3.4  Write a short text explaining the 6 denominations of the confusion matrix: P, N, TP, FN, FP and TN"
   ]
  },
  {
   "cell_type": "markdown",
   "id": "9bbb2119",
   "metadata": {},
   "source": [
    "P: Positive class. In a sense, it is the true class of the classification labels (yes, true, 1, can, grant, etc). Of course, it can be interchanged with the negative class, where this one, which denies something, will become the positive class.  \n",
    "N: Negative class. Class contrary to the positive class.  \n",
    "TP: True Positive. These are the cases where the prediction corresponds to the real label (Class A received label A)  \n",
    "FP: False Positive. These are cases where the prediction classified with the label A, but was B  \n",
    "FN: False Negative. These are cases that the prediction classified as label B, but was label A  \n",
    "TN: True Positive. These are cases that the forecast classified as B and it really was B.  "
   ]
  },
  {
   "cell_type": "markdown",
   "id": "384807e0",
   "metadata": {
    "ExecuteTime": {
     "end_time": "2023-02-03T00:52:05.790474Z",
     "start_time": "2023-02-03T00:52:05.773762Z"
    }
   },
   "source": [
    "### 3.5 In the data set used in Lesson 12: \"K-Nearest Neighbors - Practice\", are there any variables that hurt the assumptions of K-NN? If yes or no, please explain."
   ]
  },
  {
   "cell_type": "code",
   "execution_count": 115,
   "id": "83ec608f",
   "metadata": {
    "ExecuteTime": {
     "end_time": "2023-02-03T00:52:27.503328Z",
     "start_time": "2023-02-03T00:52:27.476657Z"
    }
   },
   "outputs": [
    {
     "data": {
      "text/html": [
       "<div>\n",
       "<style scoped>\n",
       "    .dataframe tbody tr th:only-of-type {\n",
       "        vertical-align: middle;\n",
       "    }\n",
       "\n",
       "    .dataframe tbody tr th {\n",
       "        vertical-align: top;\n",
       "    }\n",
       "\n",
       "    .dataframe thead th {\n",
       "        text-align: right;\n",
       "    }\n",
       "</style>\n",
       "<table border=\"1\" class=\"dataframe\">\n",
       "  <thead>\n",
       "    <tr style=\"text-align: right;\">\n",
       "      <th></th>\n",
       "      <th>investe_exterior</th>\n",
       "      <th>pessoa_polit_exp</th>\n",
       "      <th>limite_adicional</th>\n",
       "    </tr>\n",
       "  </thead>\n",
       "  <tbody>\n",
       "    <tr>\n",
       "      <th>0</th>\n",
       "      <td>Não</td>\n",
       "      <td>Não</td>\n",
       "      <td>Negar</td>\n",
       "    </tr>\n",
       "    <tr>\n",
       "      <th>1</th>\n",
       "      <td>Não</td>\n",
       "      <td>Não</td>\n",
       "      <td>Negar</td>\n",
       "    </tr>\n",
       "    <tr>\n",
       "      <th>2</th>\n",
       "      <td>Sim</td>\n",
       "      <td>Não</td>\n",
       "      <td>Negar</td>\n",
       "    </tr>\n",
       "    <tr>\n",
       "      <th>3</th>\n",
       "      <td>Sim</td>\n",
       "      <td>Não</td>\n",
       "      <td>Negar</td>\n",
       "    </tr>\n",
       "    <tr>\n",
       "      <th>4</th>\n",
       "      <td>Sim</td>\n",
       "      <td>Não</td>\n",
       "      <td>Negar</td>\n",
       "    </tr>\n",
       "    <tr>\n",
       "      <th>...</th>\n",
       "      <td>...</td>\n",
       "      <td>...</td>\n",
       "      <td>...</td>\n",
       "    </tr>\n",
       "    <tr>\n",
       "      <th>9495</th>\n",
       "      <td>Sim</td>\n",
       "      <td>Não</td>\n",
       "      <td>Negar</td>\n",
       "    </tr>\n",
       "    <tr>\n",
       "      <th>9496</th>\n",
       "      <td>Não</td>\n",
       "      <td>Não</td>\n",
       "      <td>Negar</td>\n",
       "    </tr>\n",
       "    <tr>\n",
       "      <th>9497</th>\n",
       "      <td>Não</td>\n",
       "      <td>Não</td>\n",
       "      <td>Negar</td>\n",
       "    </tr>\n",
       "    <tr>\n",
       "      <th>9498</th>\n",
       "      <td>Sim</td>\n",
       "      <td>Não</td>\n",
       "      <td>Negar</td>\n",
       "    </tr>\n",
       "    <tr>\n",
       "      <th>9499</th>\n",
       "      <td>Não</td>\n",
       "      <td>Não</td>\n",
       "      <td>Negar</td>\n",
       "    </tr>\n",
       "  </tbody>\n",
       "</table>\n",
       "<p>9500 rows × 3 columns</p>\n",
       "</div>"
      ],
      "text/plain": [
       "     investe_exterior pessoa_polit_exp limite_adicional\n",
       "0                 Não              Não            Negar\n",
       "1                 Não              Não            Negar\n",
       "2                 Sim              Não            Negar\n",
       "3                 Sim              Não            Negar\n",
       "4                 Sim              Não            Negar\n",
       "...               ...              ...              ...\n",
       "9495              Sim              Não            Negar\n",
       "9496              Não              Não            Negar\n",
       "9497              Não              Não            Negar\n",
       "9498              Sim              Não            Negar\n",
       "9499              Não              Não            Negar\n",
       "\n",
       "[9500 rows x 3 columns]"
      ]
     },
     "execution_count": 115,
     "metadata": {},
     "output_type": "execute_result"
    }
   ],
   "source": [
    "# Categorical\n",
    "df.select_dtypes(include=\"object\")"
   ]
  },
  {
   "cell_type": "code",
   "execution_count": 116,
   "id": "9ae33eb4",
   "metadata": {
    "ExecuteTime": {
     "end_time": "2023-02-03T00:53:06.340480Z",
     "start_time": "2023-02-03T00:53:06.321812Z"
    }
   },
   "outputs": [
    {
     "data": {
      "text/html": [
       "<div>\n",
       "<style scoped>\n",
       "    .dataframe tbody tr th:only-of-type {\n",
       "        vertical-align: middle;\n",
       "    }\n",
       "\n",
       "    .dataframe tbody tr th {\n",
       "        vertical-align: top;\n",
       "    }\n",
       "\n",
       "    .dataframe thead th {\n",
       "        text-align: right;\n",
       "    }\n",
       "</style>\n",
       "<table border=\"1\" class=\"dataframe\">\n",
       "  <thead>\n",
       "    <tr style=\"text-align: right;\">\n",
       "      <th></th>\n",
       "      <th>id_cliente</th>\n",
       "      <th>idade</th>\n",
       "      <th>saldo_atual</th>\n",
       "      <th>divida_atual</th>\n",
       "      <th>renda_anual</th>\n",
       "      <th>valor_em_investimentos</th>\n",
       "      <th>taxa_utilizacao_credito</th>\n",
       "      <th>num_emprestimos</th>\n",
       "      <th>num_contas_bancarias</th>\n",
       "      <th>num_cartoes_credito</th>\n",
       "      <th>dias_atraso_dt_venc</th>\n",
       "      <th>num_pgtos_atrasados</th>\n",
       "      <th>num_consultas_credito</th>\n",
       "      <th>taxa_juros</th>\n",
       "    </tr>\n",
       "  </thead>\n",
       "  <tbody>\n",
       "    <tr>\n",
       "      <th>0</th>\n",
       "      <td>1767</td>\n",
       "      <td>21</td>\n",
       "      <td>278.172008</td>\n",
       "      <td>2577.05</td>\n",
       "      <td>24196.89636</td>\n",
       "      <td>104.306544</td>\n",
       "      <td>31.038763</td>\n",
       "      <td>6</td>\n",
       "      <td>5</td>\n",
       "      <td>7</td>\n",
       "      <td>21</td>\n",
       "      <td>14</td>\n",
       "      <td>9</td>\n",
       "      <td>15</td>\n",
       "    </tr>\n",
       "    <tr>\n",
       "      <th>1</th>\n",
       "      <td>11920</td>\n",
       "      <td>40</td>\n",
       "      <td>268.874152</td>\n",
       "      <td>2465.39</td>\n",
       "      <td>19227.37796</td>\n",
       "      <td>69.858778</td>\n",
       "      <td>36.917093</td>\n",
       "      <td>5</td>\n",
       "      <td>8</td>\n",
       "      <td>5</td>\n",
       "      <td>40</td>\n",
       "      <td>23</td>\n",
       "      <td>10</td>\n",
       "      <td>18</td>\n",
       "    </tr>\n",
       "    <tr>\n",
       "      <th>2</th>\n",
       "      <td>8910</td>\n",
       "      <td>36</td>\n",
       "      <td>446.643127</td>\n",
       "      <td>1055.29</td>\n",
       "      <td>42822.28223</td>\n",
       "      <td>134.201478</td>\n",
       "      <td>34.561714</td>\n",
       "      <td>0</td>\n",
       "      <td>3</td>\n",
       "      <td>6</td>\n",
       "      <td>26</td>\n",
       "      <td>13</td>\n",
       "      <td>3</td>\n",
       "      <td>15</td>\n",
       "    </tr>\n",
       "    <tr>\n",
       "      <th>3</th>\n",
       "      <td>4964</td>\n",
       "      <td>58</td>\n",
       "      <td>321.141267</td>\n",
       "      <td>703.05</td>\n",
       "      <td>51786.82600</td>\n",
       "      <td>297.350067</td>\n",
       "      <td>31.493561</td>\n",
       "      <td>0</td>\n",
       "      <td>3</td>\n",
       "      <td>7</td>\n",
       "      <td>12</td>\n",
       "      <td>7</td>\n",
       "      <td>2</td>\n",
       "      <td>1</td>\n",
       "    </tr>\n",
       "    <tr>\n",
       "      <th>4</th>\n",
       "      <td>10100</td>\n",
       "      <td>35</td>\n",
       "      <td>428.716114</td>\n",
       "      <td>891.29</td>\n",
       "      <td>44626.85346</td>\n",
       "      <td>134.201478</td>\n",
       "      <td>28.028887</td>\n",
       "      <td>2</td>\n",
       "      <td>8</td>\n",
       "      <td>7</td>\n",
       "      <td>24</td>\n",
       "      <td>10</td>\n",
       "      <td>8</td>\n",
       "      <td>20</td>\n",
       "    </tr>\n",
       "    <tr>\n",
       "      <th>...</th>\n",
       "      <td>...</td>\n",
       "      <td>...</td>\n",
       "      <td>...</td>\n",
       "      <td>...</td>\n",
       "      <td>...</td>\n",
       "      <td>...</td>\n",
       "      <td>...</td>\n",
       "      <td>...</td>\n",
       "      <td>...</td>\n",
       "      <td>...</td>\n",
       "      <td>...</td>\n",
       "      <td>...</td>\n",
       "      <td>...</td>\n",
       "      <td>...</td>\n",
       "    </tr>\n",
       "    <tr>\n",
       "      <th>9495</th>\n",
       "      <td>5155</td>\n",
       "      <td>29</td>\n",
       "      <td>157.500279</td>\n",
       "      <td>157.98</td>\n",
       "      <td>32624.67754</td>\n",
       "      <td>237.739275</td>\n",
       "      <td>32.407322</td>\n",
       "      <td>100</td>\n",
       "      <td>4</td>\n",
       "      <td>4</td>\n",
       "      <td>24</td>\n",
       "      <td>15</td>\n",
       "      <td>1</td>\n",
       "      <td>14</td>\n",
       "    </tr>\n",
       "    <tr>\n",
       "      <th>9496</th>\n",
       "      <td>11977</td>\n",
       "      <td>1237</td>\n",
       "      <td>497.714090</td>\n",
       "      <td>805.43</td>\n",
       "      <td>49024.15700</td>\n",
       "      <td>118.883577</td>\n",
       "      <td>23.632195</td>\n",
       "      <td>0</td>\n",
       "      <td>4</td>\n",
       "      <td>7</td>\n",
       "      <td>10</td>\n",
       "      <td>11</td>\n",
       "      <td>2</td>\n",
       "      <td>3</td>\n",
       "    </tr>\n",
       "    <tr>\n",
       "      <th>9497</th>\n",
       "      <td>9278</td>\n",
       "      <td>47</td>\n",
       "      <td>306.557684</td>\n",
       "      <td>2250.42</td>\n",
       "      <td>42200.88978</td>\n",
       "      <td>134.201478</td>\n",
       "      <td>34.623576</td>\n",
       "      <td>4</td>\n",
       "      <td>4</td>\n",
       "      <td>4</td>\n",
       "      <td>13</td>\n",
       "      <td>8</td>\n",
       "      <td>4</td>\n",
       "      <td>24</td>\n",
       "    </tr>\n",
       "    <tr>\n",
       "      <th>9498</th>\n",
       "      <td>2525</td>\n",
       "      <td>42</td>\n",
       "      <td>209.870718</td>\n",
       "      <td>505.37</td>\n",
       "      <td>35391.32289</td>\n",
       "      <td>245.498881</td>\n",
       "      <td>28.758818</td>\n",
       "      <td>3</td>\n",
       "      <td>7</td>\n",
       "      <td>6</td>\n",
       "      <td>24</td>\n",
       "      <td>13</td>\n",
       "      <td>3</td>\n",
       "      <td>11</td>\n",
       "    </tr>\n",
       "    <tr>\n",
       "      <th>9499</th>\n",
       "      <td>9636</td>\n",
       "      <td>35</td>\n",
       "      <td>971.407512</td>\n",
       "      <td>851.22</td>\n",
       "      <td>106192.53216</td>\n",
       "      <td>78.140488</td>\n",
       "      <td>30.528134</td>\n",
       "      <td>0</td>\n",
       "      <td>0</td>\n",
       "      <td>6</td>\n",
       "      <td>8</td>\n",
       "      <td>4</td>\n",
       "      <td>2377</td>\n",
       "      <td>3</td>\n",
       "    </tr>\n",
       "  </tbody>\n",
       "</table>\n",
       "<p>9500 rows × 14 columns</p>\n",
       "</div>"
      ],
      "text/plain": [
       "      id_cliente  idade  saldo_atual  divida_atual   renda_anual  \\\n",
       "0           1767     21   278.172008       2577.05   24196.89636   \n",
       "1          11920     40   268.874152       2465.39   19227.37796   \n",
       "2           8910     36   446.643127       1055.29   42822.28223   \n",
       "3           4964     58   321.141267        703.05   51786.82600   \n",
       "4          10100     35   428.716114        891.29   44626.85346   \n",
       "...          ...    ...          ...           ...           ...   \n",
       "9495        5155     29   157.500279        157.98   32624.67754   \n",
       "9496       11977   1237   497.714090        805.43   49024.15700   \n",
       "9497        9278     47   306.557684       2250.42   42200.88978   \n",
       "9498        2525     42   209.870718        505.37   35391.32289   \n",
       "9499        9636     35   971.407512        851.22  106192.53216   \n",
       "\n",
       "      valor_em_investimentos  taxa_utilizacao_credito  num_emprestimos  \\\n",
       "0                 104.306544                31.038763                6   \n",
       "1                  69.858778                36.917093                5   \n",
       "2                 134.201478                34.561714                0   \n",
       "3                 297.350067                31.493561                0   \n",
       "4                 134.201478                28.028887                2   \n",
       "...                      ...                      ...              ...   \n",
       "9495              237.739275                32.407322              100   \n",
       "9496              118.883577                23.632195                0   \n",
       "9497              134.201478                34.623576                4   \n",
       "9498              245.498881                28.758818                3   \n",
       "9499               78.140488                30.528134                0   \n",
       "\n",
       "      num_contas_bancarias  num_cartoes_credito  dias_atraso_dt_venc  \\\n",
       "0                        5                    7                   21   \n",
       "1                        8                    5                   40   \n",
       "2                        3                    6                   26   \n",
       "3                        3                    7                   12   \n",
       "4                        8                    7                   24   \n",
       "...                    ...                  ...                  ...   \n",
       "9495                     4                    4                   24   \n",
       "9496                     4                    7                   10   \n",
       "9497                     4                    4                   13   \n",
       "9498                     7                    6                   24   \n",
       "9499                     0                    6                    8   \n",
       "\n",
       "      num_pgtos_atrasados  num_consultas_credito  taxa_juros  \n",
       "0                      14                      9          15  \n",
       "1                      23                     10          18  \n",
       "2                      13                      3          15  \n",
       "3                       7                      2           1  \n",
       "4                      10                      8          20  \n",
       "...                   ...                    ...         ...  \n",
       "9495                   15                      1          14  \n",
       "9496                   11                      2           3  \n",
       "9497                    8                      4          24  \n",
       "9498                   13                      3          11  \n",
       "9499                    4                   2377           3  \n",
       "\n",
       "[9500 rows x 14 columns]"
      ]
     },
     "execution_count": 116,
     "metadata": {},
     "output_type": "execute_result"
    }
   ],
   "source": [
    "# Numerical\n",
    "df.select_dtypes(exclude=\"object\")"
   ]
  },
  {
   "cell_type": "markdown",
   "id": "e0290831",
   "metadata": {},
   "source": [
    "Yes. Starting with the first example, of categorical variables, apart from the label class of course, these variables hurt the principle of numerical distance relations. There is no distance between yes or no, True or False, between yellow, red and blue, etc.\n",
    "\n",
    "But besides them, we also have the customer id, since, although it is numeric and it is even possible to calculate the distance (id 100 - id 1 = 99), this result makes no sense, since a distance of 99 ids means nothing, unless the id is assigned by the arrival of the customer. Even if this is the case, there is still no relation between id and whether the customer is a good or bad payer. Unlike the number of bank accounts, number of credit cards, etc. "
   ]
  }
 ],
 "metadata": {
  "kernelspec": {
   "display_name": "Python 3 (ipykernel)",
   "language": "python",
   "name": "python3"
  },
  "language_info": {
   "codemirror_mode": {
    "name": "ipython",
    "version": 3
   },
   "file_extension": ".py",
   "mimetype": "text/x-python",
   "name": "python",
   "nbconvert_exporter": "python",
   "pygments_lexer": "ipython3",
   "version": "3.9.12"
  }
 },
 "nbformat": 4,
 "nbformat_minor": 5
}
