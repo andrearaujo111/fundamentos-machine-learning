{
 "cells": [
  {
   "cell_type": "markdown",
   "id": "be0468f6",
   "metadata": {},
   "source": [
    "# 1. IMPORTS"
   ]
  },
  {
   "cell_type": "code",
   "execution_count": 6,
   "id": "31de9d5f-b231-4f5f-a60e-b5fbd69b1008",
   "metadata": {
    "ExecuteTime": {
     "end_time": "2023-04-01T15:29:48.300323Z",
     "start_time": "2023-04-01T15:29:46.332155Z"
    }
   },
   "outputs": [],
   "source": [
    "import pandas as pd\n",
    "import numpy as np\n",
    "import seaborn as sns\n",
    "\n",
    "import sklearn.model_selection as ms\n",
    "import matplotlib.pyplot as plt\n",
    "\n",
    "from sklearn import datasets\n",
    "from sklearn import tree\n",
    "from sklearn import metrics\n",
    "\n",
    "from sklearn.neighbors import KNeighborsClassifier\n",
    "from matplotlib import pyplot as plt"
   ]
  },
  {
   "cell_type": "markdown",
   "id": "dd9f32ff",
   "metadata": {},
   "source": [
    "# 2. Classification"
   ]
  },
  {
   "cell_type": "markdown",
   "id": "360a4d4a-cb35-4af3-bdf7-d56077fe3e3b",
   "metadata": {},
   "source": [
    "## 2.0 Create Data"
   ]
  },
  {
   "cell_type": "code",
   "execution_count": 8,
   "id": "306e35fb-6ec5-4a94-8868-e7377b8bd8c6",
   "metadata": {},
   "outputs": [],
   "source": [
    "# Large dataset\n",
    "X1, y1 = datasets.make_classification(n_samples=103652, n_features=12, n_informative=4, n_redundant=2, random_state=0)\n",
    "\n",
    "# Medium dataset\n",
    "X1, y1 = datasets.make_classification(n_samples=8652, n_features=12, n_informative=4, n_redundant=2, random_state=0)\n",
    "\n",
    "# Small dataset\n",
    "X1, y1 = datasets.make_classification(n_samples=310, n_features=12, n_informative=4, n_redundant=2, random_state=0)"
   ]
  },
  {
   "cell_type": "markdown",
   "id": "cf400fde-1855-4400-a1e0-fdbbfd25f946",
   "metadata": {},
   "source": [
    "## 2.1 KNN"
   ]
  },
  {
   "cell_type": "markdown",
   "id": "005ebfec-eb55-4a94-b0af-228b2db02659",
   "metadata": {},
   "source": [
    "# 2.1.1 Large Dataset"
   ]
  },
  {
   "cell_type": "code",
   "execution_count": 34,
   "id": "05e9efe4-4fc2-4d7a-984d-31907147009f",
   "metadata": {},
   "outputs": [],
   "source": [
    "# train/test split\n",
    "X_train, X_test, y_train, y_test = ms.train_test_split(X1, y1, test_size=0.2, random_state=0)\n",
    "\n",
    "# define model\n",
    "knn = KNeighborsClassifier(n_neighbors=5, )\n",
    "\n",
    "# fit \n",
    "knn.fit(X_train, y_train)\n",
    "\n",
    "# predict\n",
    "yhat_train = knn.predict(X_train)\n",
    "yhat_test = knn.predict(X_test)\n",
    "yhat_proba = knn.predict_proba(X_test)"
   ]
  },
  {
   "cell_type": "code",
   "execution_count": 35,
   "id": "72cd99a4-2b76-4bc3-bb13-f6185c7899f6",
   "metadata": {},
   "outputs": [],
   "source": [
    "# Performance over test and training (without choosing threshold)\n",
    "f1_train = metrics.f1_score(y_train, yhat_train)\n",
    "f1_test = metrics.f1_score(y_test, yhat_test)"
   ]
  },
  {
   "cell_type": "code",
   "execution_count": 36,
   "id": "a9f4b54c-686d-4a1f-a185-fd71e4ec6570",
   "metadata": {},
   "outputs": [
    {
     "name": "stdout",
     "output_type": "stream",
     "text": [
      "0.7906976744186046\n",
      "0.870967741935484\n"
     ]
    }
   ],
   "source": [
    "print(f1_train)\n",
    "print(f1_test)"
   ]
  },
  {
   "cell_type": "code",
   "execution_count": null,
   "id": "c36dcf5d-3a4d-46d6-8d08-a9e974bf60bc",
   "metadata": {},
   "outputs": [],
   "source": []
  }
 ],
 "metadata": {
  "kernelspec": {
   "display_name": "Python 3 (ipykernel)",
   "language": "python",
   "name": "python3"
  },
  "language_info": {
   "codemirror_mode": {
    "name": "ipython",
    "version": 3
   },
   "file_extension": ".py",
   "mimetype": "text/x-python",
   "name": "python",
   "nbconvert_exporter": "python",
   "pygments_lexer": "ipython3",
   "version": "3.11.1"
  },
  "varInspector": {
   "cols": {
    "lenName": 16,
    "lenType": 16,
    "lenVar": 40
   },
   "kernels_config": {
    "python": {
     "delete_cmd_postfix": "",
     "delete_cmd_prefix": "del ",
     "library": "var_list.py",
     "varRefreshCmd": "print(var_dic_list())"
    },
    "r": {
     "delete_cmd_postfix": ") ",
     "delete_cmd_prefix": "rm(",
     "library": "var_list.r",
     "varRefreshCmd": "cat(var_dic_list()) "
    }
   },
   "types_to_exclude": [
    "module",
    "function",
    "builtin_function_or_method",
    "instance",
    "_Feature"
   ],
   "window_display": false
  }
 },
 "nbformat": 4,
 "nbformat_minor": 5
}
