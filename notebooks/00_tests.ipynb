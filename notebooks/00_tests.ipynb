{
 "cells": [
  {
   "cell_type": "markdown",
   "id": "25976bb4-d636-4d34-8e7f-dfefb9da2d24",
   "metadata": {},
   "source": [
    "# 0. FUNCTIONS"
   ]
  },
  {
   "cell_type": "code",
   "execution_count": 1,
   "id": "09454ecf-6a60-46dd-9d38-06d5e952f835",
   "metadata": {},
   "outputs": [],
   "source": [
    "# return the shape of the data frame\n",
    "def data_shape(df):\n",
    "    return f'The dataset has {df1.shape[0]} rows and {df1.shape[1]} columns'"
   ]
  },
  {
   "cell_type": "markdown",
   "id": "be0468f6",
   "metadata": {},
   "source": [
    "# 1. IMPORTS"
   ]
  },
  {
   "cell_type": "code",
   "execution_count": 38,
   "id": "9942ed38-6132-48ad-9b8b-4a99c59b0aca",
   "metadata": {},
   "outputs": [],
   "source": [
    "import pandas   as pd\n",
    "import numpy    as np\n",
    "import seaborn  as sns\n",
    "import sweetviz as sv\n",
    "import sklearn.model_selection as ms\n",
    "import sklearn.metrics as metrics\n",
    "import warnings\n",
    "import matplotlib\n",
    "import matplotlib.pyplot as plt\n",
    "\n",
    "from sklearn.neighbors import KNeighborsClassifier\n",
    "\n",
    "\n",
    "warnings.filterwarnings('ignore')"
   ]
  },
  {
   "cell_type": "markdown",
   "id": "a9f68b3d-7f02-48ca-91fb-c25c04917080",
   "metadata": {},
   "source": [
    "# 2. CLASSIFICATION"
   ]
  },
  {
   "cell_type": "markdown",
   "id": "5022db8a-f5f1-456f-b084-9a5ab658c1fe",
   "metadata": {},
   "source": [
    "## 2.1 EXERCÍCIO 1"
   ]
  },
  {
   "cell_type": "markdown",
   "id": "ac06bccd-c26b-4d44-ae7d-6a57c49ae3cd",
   "metadata": {},
   "source": [
    "Você recebeu o conjunto de dados \"titanic\" da biblioteca seaborn. Sua tarefa é treinar um modelo de classificação capaz de prever se um passageiro do Titanic sobreviveu ou não com base nas características fornecidas. Explore o conjunto de dados, pré-processe-o, escolha um algoritmo de classificação e avalie o desempenho do modelo."
   ]
  },
  {
   "cell_type": "markdown",
   "id": "2df3f25e-aa3f-45ae-8c6b-b75a84d1240a",
   "metadata": {},
   "source": [
    "### 2.1.1 Load data"
   ]
  },
  {
   "cell_type": "code",
   "execution_count": 3,
   "id": "1f05e5a2-0602-4109-bc9b-bcd1a8927bc9",
   "metadata": {},
   "outputs": [
    {
     "data": {
      "text/html": [
       "<div>\n",
       "<style scoped>\n",
       "    .dataframe tbody tr th:only-of-type {\n",
       "        vertical-align: middle;\n",
       "    }\n",
       "\n",
       "    .dataframe tbody tr th {\n",
       "        vertical-align: top;\n",
       "    }\n",
       "\n",
       "    .dataframe thead th {\n",
       "        text-align: right;\n",
       "    }\n",
       "</style>\n",
       "<table border=\"1\" class=\"dataframe\">\n",
       "  <thead>\n",
       "    <tr style=\"text-align: right;\">\n",
       "      <th></th>\n",
       "      <th>survived</th>\n",
       "      <th>pclass</th>\n",
       "      <th>sex</th>\n",
       "      <th>age</th>\n",
       "      <th>sibsp</th>\n",
       "      <th>parch</th>\n",
       "      <th>fare</th>\n",
       "      <th>embarked</th>\n",
       "      <th>class</th>\n",
       "      <th>who</th>\n",
       "      <th>adult_male</th>\n",
       "      <th>deck</th>\n",
       "      <th>embark_town</th>\n",
       "      <th>alive</th>\n",
       "      <th>alone</th>\n",
       "    </tr>\n",
       "  </thead>\n",
       "  <tbody>\n",
       "    <tr>\n",
       "      <th>0</th>\n",
       "      <td>0</td>\n",
       "      <td>3</td>\n",
       "      <td>male</td>\n",
       "      <td>22.0</td>\n",
       "      <td>1</td>\n",
       "      <td>0</td>\n",
       "      <td>7.2500</td>\n",
       "      <td>S</td>\n",
       "      <td>Third</td>\n",
       "      <td>man</td>\n",
       "      <td>True</td>\n",
       "      <td>NaN</td>\n",
       "      <td>Southampton</td>\n",
       "      <td>no</td>\n",
       "      <td>False</td>\n",
       "    </tr>\n",
       "    <tr>\n",
       "      <th>1</th>\n",
       "      <td>1</td>\n",
       "      <td>1</td>\n",
       "      <td>female</td>\n",
       "      <td>38.0</td>\n",
       "      <td>1</td>\n",
       "      <td>0</td>\n",
       "      <td>71.2833</td>\n",
       "      <td>C</td>\n",
       "      <td>First</td>\n",
       "      <td>woman</td>\n",
       "      <td>False</td>\n",
       "      <td>C</td>\n",
       "      <td>Cherbourg</td>\n",
       "      <td>yes</td>\n",
       "      <td>False</td>\n",
       "    </tr>\n",
       "    <tr>\n",
       "      <th>2</th>\n",
       "      <td>1</td>\n",
       "      <td>3</td>\n",
       "      <td>female</td>\n",
       "      <td>26.0</td>\n",
       "      <td>0</td>\n",
       "      <td>0</td>\n",
       "      <td>7.9250</td>\n",
       "      <td>S</td>\n",
       "      <td>Third</td>\n",
       "      <td>woman</td>\n",
       "      <td>False</td>\n",
       "      <td>NaN</td>\n",
       "      <td>Southampton</td>\n",
       "      <td>yes</td>\n",
       "      <td>True</td>\n",
       "    </tr>\n",
       "    <tr>\n",
       "      <th>3</th>\n",
       "      <td>1</td>\n",
       "      <td>1</td>\n",
       "      <td>female</td>\n",
       "      <td>35.0</td>\n",
       "      <td>1</td>\n",
       "      <td>0</td>\n",
       "      <td>53.1000</td>\n",
       "      <td>S</td>\n",
       "      <td>First</td>\n",
       "      <td>woman</td>\n",
       "      <td>False</td>\n",
       "      <td>C</td>\n",
       "      <td>Southampton</td>\n",
       "      <td>yes</td>\n",
       "      <td>False</td>\n",
       "    </tr>\n",
       "    <tr>\n",
       "      <th>4</th>\n",
       "      <td>0</td>\n",
       "      <td>3</td>\n",
       "      <td>male</td>\n",
       "      <td>35.0</td>\n",
       "      <td>0</td>\n",
       "      <td>0</td>\n",
       "      <td>8.0500</td>\n",
       "      <td>S</td>\n",
       "      <td>Third</td>\n",
       "      <td>man</td>\n",
       "      <td>True</td>\n",
       "      <td>NaN</td>\n",
       "      <td>Southampton</td>\n",
       "      <td>no</td>\n",
       "      <td>True</td>\n",
       "    </tr>\n",
       "  </tbody>\n",
       "</table>\n",
       "</div>"
      ],
      "text/plain": [
       "   survived  pclass     sex   age  sibsp  parch     fare embarked  class  \\\n",
       "0         0       3    male  22.0      1      0   7.2500        S  Third   \n",
       "1         1       1  female  38.0      1      0  71.2833        C  First   \n",
       "2         1       3  female  26.0      0      0   7.9250        S  Third   \n",
       "3         1       1  female  35.0      1      0  53.1000        S  First   \n",
       "4         0       3    male  35.0      0      0   8.0500        S  Third   \n",
       "\n",
       "     who  adult_male deck  embark_town alive  alone  \n",
       "0    man        True  NaN  Southampton    no  False  \n",
       "1  woman       False    C    Cherbourg   yes  False  \n",
       "2  woman       False  NaN  Southampton   yes   True  \n",
       "3  woman       False    C  Southampton   yes  False  \n",
       "4    man        True  NaN  Southampton    no   True  "
      ]
     },
     "execution_count": 3,
     "metadata": {},
     "output_type": "execute_result"
    }
   ],
   "source": [
    "df1 = sns.load_dataset('titanic')\n",
    "df1.head()"
   ]
  },
  {
   "cell_type": "markdown",
   "id": "af633184-e374-47d2-b20c-7d213834cb43",
   "metadata": {},
   "source": [
    "### 2.2.2 DATA DESCRIPTION"
   ]
  },
  {
   "cell_type": "code",
   "execution_count": 4,
   "id": "e2f27913-93c8-43bc-af69-6dfc87aebe3a",
   "metadata": {},
   "outputs": [
    {
     "data": {
      "text/plain": [
       "'The dataset has 891 rows and 15 columns'"
      ]
     },
     "execution_count": 4,
     "metadata": {},
     "output_type": "execute_result"
    }
   ],
   "source": [
    "# data shape\n",
    "data_shape(df1)"
   ]
  },
  {
   "cell_type": "code",
   "execution_count": 5,
   "id": "e471e562-4393-4f18-9f09-db14c162b6a8",
   "metadata": {},
   "outputs": [
    {
     "data": {
      "text/plain": [
       "survived          int64\n",
       "pclass            int64\n",
       "sex              object\n",
       "age             float64\n",
       "sibsp             int64\n",
       "parch             int64\n",
       "fare            float64\n",
       "embarked         object\n",
       "class          category\n",
       "who              object\n",
       "adult_male         bool\n",
       "deck           category\n",
       "embark_town      object\n",
       "alive            object\n",
       "alone              bool\n",
       "dtype: object"
      ]
     },
     "execution_count": 5,
     "metadata": {},
     "output_type": "execute_result"
    }
   ],
   "source": [
    "# data types\n",
    "df1.dtypes"
   ]
  },
  {
   "cell_type": "code",
   "execution_count": 6,
   "id": "c06fe089-9b38-4050-acf9-66ebc96c9c71",
   "metadata": {},
   "outputs": [
    {
     "data": {
      "text/plain": [
       "survived         0\n",
       "pclass           0\n",
       "sex              0\n",
       "age            177\n",
       "sibsp            0\n",
       "parch            0\n",
       "fare             0\n",
       "embarked         2\n",
       "class            0\n",
       "who              0\n",
       "adult_male       0\n",
       "deck           688\n",
       "embark_town      2\n",
       "alive            0\n",
       "alone            0\n",
       "dtype: int64"
      ]
     },
     "execution_count": 6,
     "metadata": {},
     "output_type": "execute_result"
    }
   ],
   "source": [
    "# check nulls\n",
    "df1.isnull().sum()"
   ]
  },
  {
   "cell_type": "code",
   "execution_count": 7,
   "id": "eac4a044-d41d-4096-8ebe-2e7efb9ba0c6",
   "metadata": {},
   "outputs": [
    {
     "data": {
      "text/plain": [
       "survived       0\n",
       "pclass         0\n",
       "sex            0\n",
       "sibsp          0\n",
       "parch          0\n",
       "fare           0\n",
       "embarked       0\n",
       "class          0\n",
       "who            0\n",
       "adult_male     0\n",
       "embark_town    0\n",
       "alive          0\n",
       "alone          0\n",
       "age            0\n",
       "dtype: int64"
      ]
     },
     "execution_count": 7,
     "metadata": {},
     "output_type": "execute_result"
    }
   ],
   "source": [
    "# fill out nulls\n",
    "mean_avg = df1[['who', 'pclass', 'age']].groupby(['pclass', 'who']).mean().reset_index()\n",
    "\n",
    "df1 = df1.merge(mean_avg, how='left', on=['pclass', 'who'])\n",
    "df1['age'] = df1.apply(lambda x: x['age_y'] if pd.isnull(x['age_x']) else x['age_x'], axis=1)\n",
    "\n",
    "# fill embarked with most frequent value\n",
    "df1['embarked'] = df1['embarked'].apply(lambda x: 'S' if pd.isnull(x) else x)\n",
    "df1['embark_town'] = df1['embark_town'].apply(lambda x: 'Southampton' if pd.isnull(x) else x)\n",
    "\n",
    "# will drop deck column, along with age columns that came frame the merge.\n",
    "df1.drop(columns=['age_y', 'age_x', 'deck'], inplace=True)\n",
    "\n",
    "df1.isna().sum()"
   ]
  },
  {
   "cell_type": "code",
   "execution_count": 8,
   "id": "89880733-4956-40bc-82f5-9805d10daa09",
   "metadata": {},
   "outputs": [],
   "source": [
    "# remove other redundant variables\n",
    "df1.drop(columns=['embarked', 'class', 'alive'], inplace=True)"
   ]
  },
  {
   "cell_type": "code",
   "execution_count": 10,
   "id": "a781d85b-8c9f-4538-980d-d5d95c60e75c",
   "metadata": {},
   "outputs": [
    {
     "data": {
      "application/vnd.jupyter.widget-view+json": {
       "model_id": "e688e4075b53441798d97a99f6b9a597",
       "version_major": 2,
       "version_minor": 0
      },
      "text/plain": [
       "                                             |                                              | [  0%]   00:00 -…"
      ]
     },
     "metadata": {},
     "output_type": "display_data"
    },
    {
     "name": "stdout",
     "output_type": "stream",
     "text": [
      "Report report.html was generated! NOTEBOOK/COLAB USERS: the web browser MAY not pop up, regardless, the report IS saved in your notebook/colab files.\n"
     ]
    }
   ],
   "source": [
    "# exploratory analysis\n",
    "report = sv.analyze(df1)\n",
    "report.show_html('report.html')"
   ]
  },
  {
   "cell_type": "code",
   "execution_count": 19,
   "id": "63d5df72-5c9c-4479-adb2-908f1066c990",
   "metadata": {},
   "outputs": [
    {
     "data": {
      "image/png": "[encoded data removed]",
      "text/plain": [
       "<Figure size 1200x800 with 2 Axes>"
      ]
     },
     "metadata": {},
     "output_type": "display_data"
    }
   ],
   "source": [
    "# correlation\n",
    "num_att = df1.select_dtypes(include=['int64', 'float64'])\n",
    "\n",
    "plt.figure(figsize=(12, 8))\n",
    "sns.heatmap(num_att.corr(), annot=True)\n",
    "plt.show()"
   ]
  },
  {
   "cell_type": "code",
   "execution_count": 25,
   "id": "ef345665-a65e-4799-a1a4-d39c40e6c048",
   "metadata": {},
   "outputs": [],
   "source": [
    "# data preparation\n",
    "df1['sex'] = df1['sex'].apply(lambda x: 1 if x == 'male' else 0)\n",
    "\n",
    "df1['alone'] = df1['alone'].apply(lambda x: 1 if x else 0)\n",
    "\n",
    "df1 = pd.get_dummies(df1)"
   ]
  },
  {
   "cell_type": "code",
   "execution_count": 36,
   "id": "4272106c-d9c0-4e61-9a2f-d43579e354ea",
   "metadata": {},
   "outputs": [],
   "source": [
    "# train and test split\n",
    "X = df1.iloc[:, 1:]\n",
    "y = df1['survived']\n",
    "\n",
    "X_train, X_test, y_train, y_test = ms.train_test_split(X, y, test_size=0.2, random_state=42)"
   ]
  },
  {
   "cell_type": "code",
   "execution_count": 41,
   "id": "e4e821b6-69d1-4d96-9229-d2d2c65f6cee",
   "metadata": {},
   "outputs": [],
   "source": [
    "# define \n",
    "knn = KNeighborsClassifier(n_neighbors = 9)\n",
    "\n",
    "# train model\n",
    "knn.fit(X_train, y_train)\n",
    "\n",
    "# predict\n",
    "yhat = knn.predict(X_test)"
   ]
  },
  {
   "cell_type": "code",
   "execution_count": 50,
   "id": "9befb595-780f-42a9-b41a-28d08f324566",
   "metadata": {},
   "outputs": [
    {
     "data": {
      "text/html": [
       "<div>\n",
       "<style scoped>\n",
       "    .dataframe tbody tr th:only-of-type {\n",
       "        vertical-align: middle;\n",
       "    }\n",
       "\n",
       "    .dataframe tbody tr th {\n",
       "        vertical-align: top;\n",
       "    }\n",
       "\n",
       "    .dataframe thead th {\n",
       "        text-align: right;\n",
       "    }\n",
       "</style>\n",
       "<table border=\"1\" class=\"dataframe\">\n",
       "  <thead>\n",
       "    <tr style=\"text-align: right;\">\n",
       "      <th></th>\n",
       "      <th>metric</th>\n",
       "      <th>result</th>\n",
       "    </tr>\n",
       "  </thead>\n",
       "  <tbody>\n",
       "    <tr>\n",
       "      <th>0</th>\n",
       "      <td>f1_score</td>\n",
       "      <td>0.626866</td>\n",
       "    </tr>\n",
       "    <tr>\n",
       "      <th>1</th>\n",
       "      <td>accuracy</td>\n",
       "      <td>0.720670</td>\n",
       "    </tr>\n",
       "    <tr>\n",
       "      <th>2</th>\n",
       "      <td>precision</td>\n",
       "      <td>0.700000</td>\n",
       "    </tr>\n",
       "    <tr>\n",
       "      <th>3</th>\n",
       "      <td>recall</td>\n",
       "      <td>0.567568</td>\n",
       "    </tr>\n",
       "  </tbody>\n",
       "</table>\n",
       "</div>"
      ],
      "text/plain": [
       "      metric    result\n",
       "0   f1_score  0.626866\n",
       "1   accuracy  0.720670\n",
       "2  precision  0.700000\n",
       "3     recall  0.567568"
      ]
     },
     "execution_count": 50,
     "metadata": {},
     "output_type": "execute_result"
    }
   ],
   "source": [
    "f1 = metrics.f1_score(y_test, yhat)\n",
    "accuracy = metrics.accuracy_score(y_test, yhat)\n",
    "precision = metrics.precision_score(y_test, yhat)\n",
    "recall = metrics.recall_score(y_test, yhat)\n",
    "\n",
    "pd.DataFrame([{'metric':'f1_score', 'result': f1},\n",
    "              {'metric':'accuracy', 'result': accuracy},\n",
    "              {'metric':'precision', 'result': precision},\n",
    "              {'metric':'recall', 'result': recall}])"
   ]
  },
  {
   "cell_type": "markdown",
   "id": "799f5e78-72cf-4372-88c4-7b9e06a4ef43",
   "metadata": {
    "jp-MarkdownHeadingCollapsed": true
   },
   "source": [
    "## 2.2 EXERCÍCIO 2"
   ]
  },
  {
   "cell_type": "markdown",
   "id": "d2a4a93d-8f8d-4b10-aa04-05c072c3a52e",
   "metadata": {},
   "source": [
    "Você foi contratado por uma empresa de seguros e recebeu o conjunto de dados \"insurance\" da biblioteca seaborn. O conjunto de dados contém informações sobre clientes de seguros, incluindo idade, sexo, número de filhos, região, entre outros. Sua tarefa é treinar um modelo de classificação capaz de prever se um cliente fará ou não um seguro com base nas características fornecidas."
   ]
  },
  {
   "cell_type": "code",
   "execution_count": null,
   "id": "a6d390e7-938e-4100-a67b-f9c45953aa5b",
   "metadata": {},
   "outputs": [],
   "source": []
  },
  {
   "cell_type": "code",
   "execution_count": null,
   "id": "97cb1c8d-6877-4bfd-9fb7-a3750401a515",
   "metadata": {},
   "outputs": [],
   "source": []
  },
  {
   "cell_type": "code",
   "execution_count": null,
   "id": "a8d9f0c4-ca22-464a-80ce-b26f0a719cce",
   "metadata": {},
   "outputs": [],
   "source": []
  },
  {
   "cell_type": "code",
   "execution_count": null,
   "id": "2d5b3428-40f4-4246-8f1b-995dbef4fb8a",
   "metadata": {},
   "outputs": [],
   "source": []
  },
  {
   "cell_type": "markdown",
   "id": "655701fd-225b-4225-907f-5a32be76ed89",
   "metadata": {
    "jp-MarkdownHeadingCollapsed": true
   },
   "source": [
    "## 2.3 EXERCÍCIO 3"
   ]
  },
  {
   "cell_type": "markdown",
   "id": "075becec-7f7e-4ade-a078-e6de329755ae",
   "metadata": {},
   "source": [
    "Você está trabalhando em um projeto de classificação de espécies de flores. Utilize o conjunto de dados \"iris\" da biblioteca seaborn, que contém informações sobre as medidas das sépalas e pétalas de diferentes espécies de íris. Seu objetivo é treinar um modelo de classificação capaz de prever corretamente a espécie de uma flor com base nas medidas fornecidas."
   ]
  },
  {
   "cell_type": "code",
   "execution_count": null,
   "id": "eb554b44-a260-4d90-89a7-0eedbae82b83",
   "metadata": {},
   "outputs": [],
   "source": []
  },
  {
   "cell_type": "markdown",
   "id": "4de6f478-eef4-44d0-9e0e-ac847cfaded9",
   "metadata": {
    "jp-MarkdownHeadingCollapsed": true
   },
   "source": [
    "## 2.4 EXERCÍCIO 4"
   ]
  },
  {
   "cell_type": "markdown",
   "id": "da838318-2656-44d4-907a-2cc48d49b9a2",
   "metadata": {},
   "source": [
    "Você está desenvolvendo um sistema de detecção de doenças cardíacas. Utilize o conjunto de dados \"heart\" da biblioteca seaborn, que contém informações clínicas de pacientes com e sem doenças cardíacas. Sua tarefa é treinar um modelo de classificação capaz de prever se um paciente tem ou não uma doença cardíaca com base nas características fornecidas."
   ]
  },
  {
   "cell_type": "code",
   "execution_count": null,
   "id": "0515dae2-6d2f-4e9f-83f2-037f1f96bd19",
   "metadata": {},
   "outputs": [],
   "source": []
  },
  {
   "cell_type": "code",
   "execution_count": null,
   "id": "903d65ef-eb88-4646-bc11-cc1600b18bd6",
   "metadata": {},
   "outputs": [],
   "source": []
  },
  {
   "cell_type": "code",
   "execution_count": null,
   "id": "6a3b6fb5-604b-4016-b266-7c7c8e241e9f",
   "metadata": {},
   "outputs": [],
   "source": []
  },
  {
   "cell_type": "markdown",
   "id": "32aa1ee1-5a8c-4355-aba8-40c4775490bb",
   "metadata": {
    "jp-MarkdownHeadingCollapsed": true
   },
   "source": [
    "## 2.5 EXERCÍCIO 5"
   ]
  },
  {
   "cell_type": "markdown",
   "id": "3d9cea1d-f32d-46ff-9e17-ba34615298d0",
   "metadata": {},
   "source": [
    "Você está trabalhando em um projeto de detecção de câncer de mama. Utilize o conjunto de dados \"breast_cancer\" da biblioteca seaborn, que contém informações sobre características das células em imagens digitalizadas de tecido mamário. Seu objetivo é treinar um modelo de classificação capaz de prever se um tumor é maligno ou benigno com base nas características fornecidas."
   ]
  },
  {
   "cell_type": "code",
   "execution_count": null,
   "id": "90c96b9f-40d7-40b4-8f86-696b6bafb388",
   "metadata": {},
   "outputs": [],
   "source": []
  },
  {
   "cell_type": "code",
   "execution_count": null,
   "id": "5a982cfe-a9b1-4026-96d3-6e3401a5bacd",
   "metadata": {},
   "outputs": [],
   "source": []
  },
  {
   "cell_type": "code",
   "execution_count": null,
   "id": "8bd6307c-4083-4d18-874a-3004ccfe2862",
   "metadata": {},
   "outputs": [],
   "source": []
  },
  {
   "cell_type": "markdown",
   "id": "329c380c-a8e4-49eb-ad43-9520d9bba701",
   "metadata": {},
   "source": [
    "# 3. REGRESSION"
   ]
  },
  {
   "cell_type": "code",
   "execution_count": null,
   "id": "823b714d-3669-4b9e-9d8a-d3aba16a714b",
   "metadata": {},
   "outputs": [],
   "source": []
  },
  {
   "cell_type": "code",
   "execution_count": null,
   "id": "8c200e7e-3162-4cf1-a1a6-95ac6c35c21a",
   "metadata": {},
   "outputs": [],
   "source": []
  }
 ],
 "metadata": {
  "kernelspec": {
   "display_name": "Python 3 (ipykernel)",
   "language": "python",
   "name": "python3"
  },
  "language_info": {
   "codemirror_mode": {
    "name": "ipython",
    "version": 3
   },
   "file_extension": ".py",
   "mimetype": "text/x-python",
   "name": "python",
   "nbconvert_exporter": "python",
   "pygments_lexer": "ipython3",
   "version": "3.11.1"
  },
  "varInspector": {
   "cols": {
    "lenName": 16,
    "lenType": 16,
    "lenVar": 40
   },
   "kernels_config": {
    "python": {
     "delete_cmd_postfix": "",
     "delete_cmd_prefix": "del ",
     "library": "var_list.py",
     "varRefreshCmd": "print(var_dic_list())"
    },
    "r": {
     "delete_cmd_postfix": ") ",
     "delete_cmd_prefix": "rm(",
     "library": "var_list.r",
     "varRefreshCmd": "cat(var_dic_list()) "
    }
   },
   "types_to_exclude": [
    "module",
    "function",
    "builtin_function_or_method",
    "instance",
    "_Feature"
   ],
   "window_display": false
  }
 },
 "nbformat": 4,
 "nbformat_minor": 5
}
