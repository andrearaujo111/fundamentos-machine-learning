{
 "cells": [
  {
   "cell_type": "markdown",
   "id": "b6f3c7da",
   "metadata": {
    "ExecuteTime": {
     "end_time": "2023-01-24T02:01:36.014031Z",
     "start_time": "2023-01-24T02:01:35.995911Z"
    }
   },
   "source": [
    "# 1.0 Imports"
   ]
  },
  {
   "cell_type": "code",
   "execution_count": 1,
   "id": "8c180156",
   "metadata": {
    "ExecuteTime": {
     "end_time": "2023-02-01T02:38:10.705289Z",
     "start_time": "2023-02-01T02:38:07.356090Z"
    }
   },
   "outputs": [],
   "source": [
    "import pandas as pd\n",
    "import numpy as np\n",
    "from sklearn.neighbors import KNeighborsClassifier\n",
    "from sklearn import metrics"
   ]
  },
  {
   "cell_type": "markdown",
   "id": "4e401c6b",
   "metadata": {},
   "source": [
    "# 2.0 KNN (K-Nearest Neighbors)"
   ]
  },
  {
   "cell_type": "markdown",
   "id": "bfa61f48",
   "metadata": {},
   "source": [
    "## 2.1 Data Load"
   ]
  },
  {
   "cell_type": "code",
   "execution_count": 2,
   "id": "20a152c2",
   "metadata": {
    "ExecuteTime": {
     "end_time": "2023-02-01T02:38:10.815371Z",
     "start_time": "2023-02-01T02:38:10.709464Z"
    }
   },
   "outputs": [
    {
     "data": {
      "text/html": [
       "<div>\n",
       "<style scoped>\n",
       "    .dataframe tbody tr th:only-of-type {\n",
       "        vertical-align: middle;\n",
       "    }\n",
       "\n",
       "    .dataframe tbody tr th {\n",
       "        vertical-align: top;\n",
       "    }\n",
       "\n",
       "    .dataframe thead th {\n",
       "        text-align: right;\n",
       "    }\n",
       "</style>\n",
       "<table border=\"1\" class=\"dataframe\">\n",
       "  <thead>\n",
       "    <tr style=\"text-align: right;\">\n",
       "      <th></th>\n",
       "      <th>id_cliente</th>\n",
       "      <th>idade</th>\n",
       "      <th>saldo_atual</th>\n",
       "      <th>divida_atual</th>\n",
       "      <th>renda_anual</th>\n",
       "      <th>valor_em_investimentos</th>\n",
       "      <th>taxa_utilizacao_credito</th>\n",
       "      <th>num_emprestimos</th>\n",
       "      <th>num_contas_bancarias</th>\n",
       "      <th>num_cartoes_credito</th>\n",
       "      <th>dias_atraso_dt_venc</th>\n",
       "      <th>num_pgtos_atrasados</th>\n",
       "      <th>num_consultas_credito</th>\n",
       "      <th>taxa_juros</th>\n",
       "      <th>investe_exterior</th>\n",
       "      <th>pessoa_polit_exp</th>\n",
       "      <th>limite_adicional</th>\n",
       "    </tr>\n",
       "  </thead>\n",
       "  <tbody>\n",
       "    <tr>\n",
       "      <th>0</th>\n",
       "      <td>1767</td>\n",
       "      <td>21</td>\n",
       "      <td>278.172008</td>\n",
       "      <td>2577.05</td>\n",
       "      <td>24196.89636</td>\n",
       "      <td>104.306544</td>\n",
       "      <td>31.038763</td>\n",
       "      <td>6</td>\n",
       "      <td>5</td>\n",
       "      <td>7</td>\n",
       "      <td>21</td>\n",
       "      <td>14</td>\n",
       "      <td>9</td>\n",
       "      <td>15</td>\n",
       "      <td>Não</td>\n",
       "      <td>Não</td>\n",
       "      <td>Negar</td>\n",
       "    </tr>\n",
       "    <tr>\n",
       "      <th>1</th>\n",
       "      <td>11920</td>\n",
       "      <td>40</td>\n",
       "      <td>268.874152</td>\n",
       "      <td>2465.39</td>\n",
       "      <td>19227.37796</td>\n",
       "      <td>69.858778</td>\n",
       "      <td>36.917093</td>\n",
       "      <td>5</td>\n",
       "      <td>8</td>\n",
       "      <td>5</td>\n",
       "      <td>40</td>\n",
       "      <td>23</td>\n",
       "      <td>10</td>\n",
       "      <td>18</td>\n",
       "      <td>Não</td>\n",
       "      <td>Não</td>\n",
       "      <td>Negar</td>\n",
       "    </tr>\n",
       "    <tr>\n",
       "      <th>2</th>\n",
       "      <td>8910</td>\n",
       "      <td>36</td>\n",
       "      <td>446.643127</td>\n",
       "      <td>1055.29</td>\n",
       "      <td>42822.28223</td>\n",
       "      <td>134.201478</td>\n",
       "      <td>34.561714</td>\n",
       "      <td>0</td>\n",
       "      <td>3</td>\n",
       "      <td>6</td>\n",
       "      <td>26</td>\n",
       "      <td>13</td>\n",
       "      <td>3</td>\n",
       "      <td>15</td>\n",
       "      <td>Sim</td>\n",
       "      <td>Não</td>\n",
       "      <td>Negar</td>\n",
       "    </tr>\n",
       "    <tr>\n",
       "      <th>3</th>\n",
       "      <td>4964</td>\n",
       "      <td>58</td>\n",
       "      <td>321.141267</td>\n",
       "      <td>703.05</td>\n",
       "      <td>51786.82600</td>\n",
       "      <td>297.350067</td>\n",
       "      <td>31.493561</td>\n",
       "      <td>0</td>\n",
       "      <td>3</td>\n",
       "      <td>7</td>\n",
       "      <td>12</td>\n",
       "      <td>7</td>\n",
       "      <td>2</td>\n",
       "      <td>1</td>\n",
       "      <td>Sim</td>\n",
       "      <td>Não</td>\n",
       "      <td>Negar</td>\n",
       "    </tr>\n",
       "    <tr>\n",
       "      <th>4</th>\n",
       "      <td>10100</td>\n",
       "      <td>35</td>\n",
       "      <td>428.716114</td>\n",
       "      <td>891.29</td>\n",
       "      <td>44626.85346</td>\n",
       "      <td>134.201478</td>\n",
       "      <td>28.028887</td>\n",
       "      <td>2</td>\n",
       "      <td>8</td>\n",
       "      <td>7</td>\n",
       "      <td>24</td>\n",
       "      <td>10</td>\n",
       "      <td>8</td>\n",
       "      <td>20</td>\n",
       "      <td>Sim</td>\n",
       "      <td>Não</td>\n",
       "      <td>Negar</td>\n",
       "    </tr>\n",
       "  </tbody>\n",
       "</table>\n",
       "</div>"
      ],
      "text/plain": [
       "   id_cliente  idade  saldo_atual  divida_atual  renda_anual  \\\n",
       "0        1767     21   278.172008       2577.05  24196.89636   \n",
       "1       11920     40   268.874152       2465.39  19227.37796   \n",
       "2        8910     36   446.643127       1055.29  42822.28223   \n",
       "3        4964     58   321.141267        703.05  51786.82600   \n",
       "4       10100     35   428.716114        891.29  44626.85346   \n",
       "\n",
       "   valor_em_investimentos  taxa_utilizacao_credito  num_emprestimos  \\\n",
       "0              104.306544                31.038763                6   \n",
       "1               69.858778                36.917093                5   \n",
       "2              134.201478                34.561714                0   \n",
       "3              297.350067                31.493561                0   \n",
       "4              134.201478                28.028887                2   \n",
       "\n",
       "   num_contas_bancarias  num_cartoes_credito  dias_atraso_dt_venc  \\\n",
       "0                     5                    7                   21   \n",
       "1                     8                    5                   40   \n",
       "2                     3                    6                   26   \n",
       "3                     3                    7                   12   \n",
       "4                     8                    7                   24   \n",
       "\n",
       "   num_pgtos_atrasados  num_consultas_credito  taxa_juros investe_exterior  \\\n",
       "0                   14                      9          15              Não   \n",
       "1                   23                     10          18              Não   \n",
       "2                   13                      3          15              Sim   \n",
       "3                    7                      2           1              Sim   \n",
       "4                   10                      8          20              Sim   \n",
       "\n",
       "  pessoa_polit_exp limite_adicional  \n",
       "0              Não            Negar  \n",
       "1              Não            Negar  \n",
       "2              Não            Negar  \n",
       "3              Não            Negar  \n",
       "4              Não            Negar  "
      ]
     },
     "execution_count": 2,
     "metadata": {},
     "output_type": "execute_result"
    }
   ],
   "source": [
    "# Load dataset\n",
    "df = pd.read_csv('../datasets/train.csv')\n",
    "df.head()"
   ]
  },
  {
   "cell_type": "code",
   "execution_count": 3,
   "id": "86b6f907",
   "metadata": {
    "ExecuteTime": {
     "end_time": "2023-02-01T02:38:10.832382Z",
     "start_time": "2023-02-01T02:38:10.818332Z"
    }
   },
   "outputs": [
    {
     "name": "stdout",
     "output_type": "stream",
     "text": [
      "The dataframe have 9500  rows and 17 columns\n"
     ]
    }
   ],
   "source": [
    "# Data Shape\n",
    "print(f'The dataframe have {df.shape[0]}  rows and {df.shape[1]} columns')"
   ]
  },
  {
   "cell_type": "markdown",
   "id": "54e844b9",
   "metadata": {},
   "source": [
    "## 2.2 Implement Model"
   ]
  },
  {
   "cell_type": "code",
   "execution_count": 4,
   "id": "07e49ef3",
   "metadata": {
    "ExecuteTime": {
     "end_time": "2023-02-01T02:38:10.862438Z",
     "start_time": "2023-02-01T02:38:10.835507Z"
    }
   },
   "outputs": [
    {
     "data": {
      "text/plain": [
       "Negar       0.841579\n",
       "Conceder    0.158421\n",
       "Name: limite_adicional, dtype: float64"
      ]
     },
     "execution_count": 4,
     "metadata": {},
     "output_type": "execute_result"
    }
   ],
   "source": [
    "# Check data balance\n",
    "df['limite_adicional'].value_counts(normalize=True)"
   ]
  },
  {
   "cell_type": "code",
   "execution_count": 5,
   "id": "c5fe6914",
   "metadata": {
    "ExecuteTime": {
     "end_time": "2023-02-01T02:38:10.892796Z",
     "start_time": "2023-02-01T02:38:10.867233Z"
    }
   },
   "outputs": [],
   "source": [
    "# Isolate the predictor variables\n",
    "features = ['idade', 'saldo_atual', 'divida_atual', 'renda_anual', 'valor_em_investimentos',\n",
    "'taxa_utilizacao_credito', 'num_emprestimos', 'num_contas_bancarias', 'num_cartoes_credito',\n",
    "'dias_atraso_dt_venc', 'num_pgtos_atrasados', 'num_consultas_credito', 'taxa_juros']\n",
    "\n",
    "# Isolate the response variable\n",
    "label = all_features[-1]\n",
    "\n",
    "# Preparating train data\n",
    "x_train = df.loc[:, features]\n",
    "y_train = df.loc[:, label].values.ravel() # Values/ravel turns into an array"
   ]
  },
  {
   "cell_type": "code",
   "execution_count": 6,
   "id": "b8632cb8",
   "metadata": {
    "ExecuteTime": {
     "end_time": "2023-02-01T02:38:11.701006Z",
     "start_time": "2023-02-01T02:38:10.894804Z"
    }
   },
   "outputs": [
    {
     "data": {
      "text/html": [
       "<div>\n",
       "<style scoped>\n",
       "    .dataframe tbody tr th:only-of-type {\n",
       "        vertical-align: middle;\n",
       "    }\n",
       "\n",
       "    .dataframe tbody tr th {\n",
       "        vertical-align: top;\n",
       "    }\n",
       "\n",
       "    .dataframe thead th {\n",
       "        text-align: right;\n",
       "    }\n",
       "</style>\n",
       "<table border=\"1\" class=\"dataframe\">\n",
       "  <thead>\n",
       "    <tr style=\"text-align: right;\">\n",
       "      <th></th>\n",
       "      <th>id_cliente</th>\n",
       "      <th>limite_adicional</th>\n",
       "      <th>predicted</th>\n",
       "      <th>right</th>\n",
       "    </tr>\n",
       "  </thead>\n",
       "  <tbody>\n",
       "    <tr>\n",
       "      <th>0</th>\n",
       "      <td>1767</td>\n",
       "      <td>Negar</td>\n",
       "      <td>Negar</td>\n",
       "      <td>1</td>\n",
       "    </tr>\n",
       "    <tr>\n",
       "      <th>1</th>\n",
       "      <td>11920</td>\n",
       "      <td>Negar</td>\n",
       "      <td>Negar</td>\n",
       "      <td>1</td>\n",
       "    </tr>\n",
       "    <tr>\n",
       "      <th>2</th>\n",
       "      <td>8910</td>\n",
       "      <td>Negar</td>\n",
       "      <td>Negar</td>\n",
       "      <td>1</td>\n",
       "    </tr>\n",
       "    <tr>\n",
       "      <th>3</th>\n",
       "      <td>4964</td>\n",
       "      <td>Negar</td>\n",
       "      <td>Negar</td>\n",
       "      <td>1</td>\n",
       "    </tr>\n",
       "    <tr>\n",
       "      <th>4</th>\n",
       "      <td>10100</td>\n",
       "      <td>Negar</td>\n",
       "      <td>Negar</td>\n",
       "      <td>1</td>\n",
       "    </tr>\n",
       "    <tr>\n",
       "      <th>...</th>\n",
       "      <td>...</td>\n",
       "      <td>...</td>\n",
       "      <td>...</td>\n",
       "      <td>...</td>\n",
       "    </tr>\n",
       "    <tr>\n",
       "      <th>9495</th>\n",
       "      <td>5155</td>\n",
       "      <td>Negar</td>\n",
       "      <td>Negar</td>\n",
       "      <td>1</td>\n",
       "    </tr>\n",
       "    <tr>\n",
       "      <th>9496</th>\n",
       "      <td>11977</td>\n",
       "      <td>Negar</td>\n",
       "      <td>Negar</td>\n",
       "      <td>1</td>\n",
       "    </tr>\n",
       "    <tr>\n",
       "      <th>9497</th>\n",
       "      <td>9278</td>\n",
       "      <td>Negar</td>\n",
       "      <td>Negar</td>\n",
       "      <td>1</td>\n",
       "    </tr>\n",
       "    <tr>\n",
       "      <th>9498</th>\n",
       "      <td>2525</td>\n",
       "      <td>Negar</td>\n",
       "      <td>Negar</td>\n",
       "      <td>1</td>\n",
       "    </tr>\n",
       "    <tr>\n",
       "      <th>9499</th>\n",
       "      <td>9636</td>\n",
       "      <td>Negar</td>\n",
       "      <td>Negar</td>\n",
       "      <td>1</td>\n",
       "    </tr>\n",
       "  </tbody>\n",
       "</table>\n",
       "<p>9500 rows × 4 columns</p>\n",
       "</div>"
      ],
      "text/plain": [
       "      id_cliente limite_adicional predicted  right\n",
       "0           1767            Negar     Negar      1\n",
       "1          11920            Negar     Negar      1\n",
       "2           8910            Negar     Negar      1\n",
       "3           4964            Negar     Negar      1\n",
       "4          10100            Negar     Negar      1\n",
       "...          ...              ...       ...    ...\n",
       "9495        5155            Negar     Negar      1\n",
       "9496       11977            Negar     Negar      1\n",
       "9497        9278            Negar     Negar      1\n",
       "9498        2525            Negar     Negar      1\n",
       "9499        9636            Negar     Negar      1\n",
       "\n",
       "[9500 rows x 4 columns]"
      ]
     },
     "execution_count": 6,
     "metadata": {},
     "output_type": "execute_result"
    }
   ],
   "source": [
    "# Create knn object with a number of neighbors\n",
    "knn_classifier = KNeighborsClassifier(n_neighbors=7)\n",
    "\n",
    "# Training the algorithm\n",
    "knn_classifier.fit(x_train, y_train)\n",
    "\n",
    "# Predictions\n",
    "y_pred = knn_classifier.predict(x_train)\n",
    "y_pred\n",
    "\n",
    "# Comparing predict vs realized\n",
    "df1 = df.loc[:, ['id_cliente', 'limite_adicional']]\n",
    "df1['predicted'] = y_pred\n",
    "df1['right'] = df1.apply(lambda x: 1 if x['limite_adicional'] == x['predicted'] else 0, axis=1)\n",
    "\n",
    "df1"
   ]
  },
  {
   "cell_type": "markdown",
   "id": "b81ebfaa",
   "metadata": {},
   "source": [
    "## 2.3 Metrics"
   ]
  },
  {
   "cell_type": "markdown",
   "id": "380bfec3",
   "metadata": {},
   "source": [
    "**<span class=\"mark\">Remembering that we have a class (Conceder) with a representativity of 84%, which indicates unbalanced data.</span>**"
   ]
  },
  {
   "cell_type": "markdown",
   "id": "e8997a39",
   "metadata": {
    "ExecuteTime": {
     "end_time": "2023-01-28T16:02:50.086942Z",
     "start_time": "2023-01-28T16:02:50.070984Z"
    }
   },
   "source": [
    "### 2.3.1 Confusion Matrix"
   ]
  },
  {
   "cell_type": "code",
   "execution_count": 7,
   "id": "d5cfc9b8",
   "metadata": {
    "ExecuteTime": {
     "end_time": "2023-02-01T02:38:11.778510Z",
     "start_time": "2023-02-01T02:38:11.702968Z"
    }
   },
   "outputs": [
    {
     "data": {
      "text/plain": [
       "array([[ 369, 1136],\n",
       "       [ 203, 7792]], dtype=int64)"
      ]
     },
     "execution_count": 7,
     "metadata": {},
     "output_type": "execute_result"
    }
   ],
   "source": [
    "# Confusion matrix\n",
    "metrics.confusion_matrix(y_train, y_pred)"
   ]
  },
  {
   "cell_type": "markdown",
   "id": "ef7bd66a",
   "metadata": {},
   "source": [
    "369  Classified as **Conceder** that is **Conceder**  \n",
    "1136 Claassified as **Negar** that was **Conceder**  \n",
    "203 Classified as **Conceder** that was **Negar**  \n",
    "7792 Classified as **Negar** that was **Negar**  "
   ]
  },
  {
   "cell_type": "markdown",
   "id": "93b115dd",
   "metadata": {},
   "source": [
    "### 2.3.2 Accuracy"
   ]
  },
  {
   "cell_type": "code",
   "execution_count": 10,
   "id": "01aeac6a",
   "metadata": {
    "ExecuteTime": {
     "end_time": "2023-02-01T02:44:03.446901Z",
     "start_time": "2023-02-01T02:44:03.439916Z"
    }
   },
   "outputs": [
    {
     "name": "stdout",
     "output_type": "stream",
     "text": [
      "The algorithm got a 85.91% accuracy\n"
     ]
    }
   ],
   "source": [
    "# Accuracy (mainstream method)\n",
    "print(f'The algorithm got a {round(np.mean(df1.right) * 100, 2)}% accuracy')"
   ]
  },
  {
   "cell_type": "code",
   "execution_count": 11,
   "id": "bdda0683",
   "metadata": {
    "ExecuteTime": {
     "end_time": "2023-02-01T02:44:07.919850Z",
     "start_time": "2023-02-01T02:44:07.879924Z"
    }
   },
   "outputs": [
    {
     "name": "stdout",
     "output_type": "stream",
     "text": [
      "The algorithm got a 85.91% accuracy\n"
     ]
    }
   ],
   "source": [
    "# Accuracy with metrics library\n",
    "acc = metrics.accuracy_score(y_train, y_pred)\n",
    "\n",
    "print('The algorithm got a {:.2f}% accuracy'.format(acc * 100))"
   ]
  },
  {
   "cell_type": "markdown",
   "id": "088bcce1",
   "metadata": {
    "ExecuteTime": {
     "end_time": "2023-02-01T02:44:25.669900Z",
     "start_time": "2023-02-01T02:44:25.661940Z"
    }
   },
   "source": [
    "### 2.3.3 Precision"
   ]
  },
  {
   "cell_type": "code",
   "execution_count": 24,
   "id": "292d28a7",
   "metadata": {
    "ExecuteTime": {
     "end_time": "2023-02-01T02:52:55.833832Z",
     "start_time": "2023-02-01T02:52:55.737604Z"
    }
   },
   "outputs": [
    {
     "name": "stdout",
     "output_type": "stream",
     "text": [
      "The algorithm got a 64.51% precision score\n"
     ]
    }
   ],
   "source": [
    "# Precision (of all predictions made on the positive class, how many times did I got right?)\n",
    "prec = metrics.precision_score(y_train, y_pred, pos_label='Conceder')\n",
    "print('The algorithm got a {:.2f}% precision score'.format(prec * 100))"
   ]
  },
  {
   "cell_type": "markdown",
   "id": "68d17d1b",
   "metadata": {
    "ExecuteTime": {
     "end_time": "2023-02-01T02:48:16.758338Z",
     "start_time": "2023-02-01T02:48:16.747395Z"
    }
   },
   "source": [
    "### 2.3.4 Recall"
   ]
  },
  {
   "cell_type": "code",
   "execution_count": 25,
   "id": "2fc7346c",
   "metadata": {
    "ExecuteTime": {
     "end_time": "2023-02-01T02:52:57.410303Z",
     "start_time": "2023-02-01T02:52:57.310652Z"
    }
   },
   "outputs": [
    {
     "name": "stdout",
     "output_type": "stream",
     "text": [
      "The algorithm got a 24.52% recall score\n"
     ]
    }
   ],
   "source": [
    "recall = metrics.recall_score(y_train, y_pred, pos_label='Conceder')\n",
    "print('The algorithm got a {:.2f}% recall score'.format(recall * 100))"
   ]
  },
  {
   "cell_type": "markdown",
   "id": "e364c07f",
   "metadata": {},
   "source": [
    "The algorithm have a good accuracy due to the Negar Class, so if our objective is to aim to deny customers, it seems good, but it can get better. Now, if our objective is to provide a good experience by conceiving, we are way far from good."
   ]
  },
  {
   "cell_type": "markdown",
   "id": "b92adb54",
   "metadata": {
    "ExecuteTime": {
     "end_time": "2023-02-01T02:52:18.363201Z",
     "start_time": "2023-02-01T02:52:18.344213Z"
    }
   },
   "source": [
    "## 3.0 Exercises"
   ]
  },
  {
   "cell_type": "markdown",
   "id": "2441200a",
   "metadata": {},
   "source": [
    "### 3.1.1 Retraining the algorithm to k = [3, 5, 7, 9, 11, 13, 15, 17, 19, 21]"
   ]
  },
  {
   "cell_type": "code",
   "execution_count": 30,
   "id": "4af3c217",
   "metadata": {
    "ExecuteTime": {
     "end_time": "2023-02-01T02:57:38.741321Z",
     "start_time": "2023-02-01T02:57:38.705433Z"
    }
   },
   "outputs": [
    {
     "data": {
      "text/html": [
       "<div>\n",
       "<style scoped>\n",
       "    .dataframe tbody tr th:only-of-type {\n",
       "        vertical-align: middle;\n",
       "    }\n",
       "\n",
       "    .dataframe tbody tr th {\n",
       "        vertical-align: top;\n",
       "    }\n",
       "\n",
       "    .dataframe thead th {\n",
       "        text-align: right;\n",
       "    }\n",
       "</style>\n",
       "<table border=\"1\" class=\"dataframe\">\n",
       "  <thead>\n",
       "    <tr style=\"text-align: right;\">\n",
       "      <th></th>\n",
       "      <th>id_cliente</th>\n",
       "      <th>idade</th>\n",
       "      <th>saldo_atual</th>\n",
       "      <th>divida_atual</th>\n",
       "      <th>renda_anual</th>\n",
       "      <th>valor_em_investimentos</th>\n",
       "      <th>taxa_utilizacao_credito</th>\n",
       "      <th>num_emprestimos</th>\n",
       "      <th>num_contas_bancarias</th>\n",
       "      <th>num_cartoes_credito</th>\n",
       "      <th>dias_atraso_dt_venc</th>\n",
       "      <th>num_pgtos_atrasados</th>\n",
       "      <th>num_consultas_credito</th>\n",
       "      <th>taxa_juros</th>\n",
       "      <th>investe_exterior</th>\n",
       "      <th>pessoa_polit_exp</th>\n",
       "      <th>limite_adicional</th>\n",
       "    </tr>\n",
       "  </thead>\n",
       "  <tbody>\n",
       "    <tr>\n",
       "      <th>0</th>\n",
       "      <td>1767</td>\n",
       "      <td>21</td>\n",
       "      <td>278.172008</td>\n",
       "      <td>2577.05</td>\n",
       "      <td>24196.89636</td>\n",
       "      <td>104.306544</td>\n",
       "      <td>31.038763</td>\n",
       "      <td>6</td>\n",
       "      <td>5</td>\n",
       "      <td>7</td>\n",
       "      <td>21</td>\n",
       "      <td>14</td>\n",
       "      <td>9</td>\n",
       "      <td>15</td>\n",
       "      <td>Não</td>\n",
       "      <td>Não</td>\n",
       "      <td>Negar</td>\n",
       "    </tr>\n",
       "    <tr>\n",
       "      <th>1</th>\n",
       "      <td>11920</td>\n",
       "      <td>40</td>\n",
       "      <td>268.874152</td>\n",
       "      <td>2465.39</td>\n",
       "      <td>19227.37796</td>\n",
       "      <td>69.858778</td>\n",
       "      <td>36.917093</td>\n",
       "      <td>5</td>\n",
       "      <td>8</td>\n",
       "      <td>5</td>\n",
       "      <td>40</td>\n",
       "      <td>23</td>\n",
       "      <td>10</td>\n",
       "      <td>18</td>\n",
       "      <td>Não</td>\n",
       "      <td>Não</td>\n",
       "      <td>Negar</td>\n",
       "    </tr>\n",
       "    <tr>\n",
       "      <th>2</th>\n",
       "      <td>8910</td>\n",
       "      <td>36</td>\n",
       "      <td>446.643127</td>\n",
       "      <td>1055.29</td>\n",
       "      <td>42822.28223</td>\n",
       "      <td>134.201478</td>\n",
       "      <td>34.561714</td>\n",
       "      <td>0</td>\n",
       "      <td>3</td>\n",
       "      <td>6</td>\n",
       "      <td>26</td>\n",
       "      <td>13</td>\n",
       "      <td>3</td>\n",
       "      <td>15</td>\n",
       "      <td>Sim</td>\n",
       "      <td>Não</td>\n",
       "      <td>Negar</td>\n",
       "    </tr>\n",
       "    <tr>\n",
       "      <th>3</th>\n",
       "      <td>4964</td>\n",
       "      <td>58</td>\n",
       "      <td>321.141267</td>\n",
       "      <td>703.05</td>\n",
       "      <td>51786.82600</td>\n",
       "      <td>297.350067</td>\n",
       "      <td>31.493561</td>\n",
       "      <td>0</td>\n",
       "      <td>3</td>\n",
       "      <td>7</td>\n",
       "      <td>12</td>\n",
       "      <td>7</td>\n",
       "      <td>2</td>\n",
       "      <td>1</td>\n",
       "      <td>Sim</td>\n",
       "      <td>Não</td>\n",
       "      <td>Negar</td>\n",
       "    </tr>\n",
       "    <tr>\n",
       "      <th>4</th>\n",
       "      <td>10100</td>\n",
       "      <td>35</td>\n",
       "      <td>428.716114</td>\n",
       "      <td>891.29</td>\n",
       "      <td>44626.85346</td>\n",
       "      <td>134.201478</td>\n",
       "      <td>28.028887</td>\n",
       "      <td>2</td>\n",
       "      <td>8</td>\n",
       "      <td>7</td>\n",
       "      <td>24</td>\n",
       "      <td>10</td>\n",
       "      <td>8</td>\n",
       "      <td>20</td>\n",
       "      <td>Sim</td>\n",
       "      <td>Não</td>\n",
       "      <td>Negar</td>\n",
       "    </tr>\n",
       "  </tbody>\n",
       "</table>\n",
       "</div>"
      ],
      "text/plain": [
       "   id_cliente  idade  saldo_atual  divida_atual  renda_anual  \\\n",
       "0        1767     21   278.172008       2577.05  24196.89636   \n",
       "1       11920     40   268.874152       2465.39  19227.37796   \n",
       "2        8910     36   446.643127       1055.29  42822.28223   \n",
       "3        4964     58   321.141267        703.05  51786.82600   \n",
       "4       10100     35   428.716114        891.29  44626.85346   \n",
       "\n",
       "   valor_em_investimentos  taxa_utilizacao_credito  num_emprestimos  \\\n",
       "0              104.306544                31.038763                6   \n",
       "1               69.858778                36.917093                5   \n",
       "2              134.201478                34.561714                0   \n",
       "3              297.350067                31.493561                0   \n",
       "4              134.201478                28.028887                2   \n",
       "\n",
       "   num_contas_bancarias  num_cartoes_credito  dias_atraso_dt_venc  \\\n",
       "0                     5                    7                   21   \n",
       "1                     8                    5                   40   \n",
       "2                     3                    6                   26   \n",
       "3                     3                    7                   12   \n",
       "4                     8                    7                   24   \n",
       "\n",
       "   num_pgtos_atrasados  num_consultas_credito  taxa_juros investe_exterior  \\\n",
       "0                   14                      9          15              Não   \n",
       "1                   23                     10          18              Não   \n",
       "2                   13                      3          15              Sim   \n",
       "3                    7                      2           1              Sim   \n",
       "4                   10                      8          20              Sim   \n",
       "\n",
       "  pessoa_polit_exp limite_adicional  \n",
       "0              Não            Negar  \n",
       "1              Não            Negar  \n",
       "2              Não            Negar  \n",
       "3              Não            Negar  \n",
       "4              Não            Negar  "
      ]
     },
     "execution_count": 30,
     "metadata": {},
     "output_type": "execute_result"
    }
   ],
   "source": [
    "# Checking our dataframe\n",
    "df.head()"
   ]
  },
  {
   "cell_type": "code",
   "execution_count": 45,
   "id": "4bdaf7de",
   "metadata": {
    "ExecuteTime": {
     "end_time": "2023-02-01T03:04:08.527236Z",
     "start_time": "2023-02-01T03:04:08.505274Z"
    }
   },
   "outputs": [
    {
     "data": {
      "text/plain": [
       "array(['Negar', 'Negar', 'Negar', ..., 'Negar', 'Negar', 'Negar'],\n",
       "      dtype=object)"
      ]
     },
     "execution_count": 45,
     "metadata": {},
     "output_type": "execute_result"
    }
   ],
   "source": [
    "# Create an empty dataframe that will receive the k and the metrics for each k value\n",
    "df2 = pd.DataFrame()\n",
    "\n",
    "# Separaring predictor and predicted variables\n",
    "features = df.select_dtypes(exclude=\"object\").columns.to_list()\n",
    "labels = \"limite_adicional\"\n",
    "\n",
    "# Creating datasets\n",
    "x_train = df.loc[:, features]\n",
    "y_train = df.loc[:, label].values"
   ]
  },
  {
   "cell_type": "code",
   "execution_count": 46,
   "id": "0a375406",
   "metadata": {
    "ExecuteTime": {
     "end_time": "2023-02-01T03:05:20.345180Z",
     "start_time": "2023-02-01T03:05:19.787307Z"
    }
   },
   "outputs": [
    {
     "data": {
      "text/plain": [
       "array(['Negar', 'Negar', 'Negar', ..., 'Negar', 'Negar', 'Negar'],\n",
       "      dtype=object)"
      ]
     },
     "execution_count": 46,
     "metadata": {},
     "output_type": "execute_result"
    }
   ],
   "source": [
    "# For k = 3\n",
    "\n",
    "# Create KNN object\n",
    "knn_classifier = KNeighborsClassifier(n_neighbors=3)\n",
    "\n",
    "# Train the momdel\n",
    "knn_classifier.fit(x_train, y_train)\n",
    "\n",
    "# Make prediction\n",
    "y_pred = knn_classifier.predict(x_train)\n",
    "\n"
   ]
  },
  {
   "cell_type": "code",
   "execution_count": null,
   "id": "0e9272fe",
   "metadata": {},
   "outputs": [],
   "source": []
  }
 ],
 "metadata": {
  "kernelspec": {
   "display_name": "Python 3 (ipykernel)",
   "language": "python",
   "name": "python3"
  },
  "language_info": {
   "codemirror_mode": {
    "name": "ipython",
    "version": 3
   },
   "file_extension": ".py",
   "mimetype": "text/x-python",
   "name": "python",
   "nbconvert_exporter": "python",
   "pygments_lexer": "ipython3",
   "version": "3.9.12"
  }
 },
 "nbformat": 4,
 "nbformat_minor": 5
}
