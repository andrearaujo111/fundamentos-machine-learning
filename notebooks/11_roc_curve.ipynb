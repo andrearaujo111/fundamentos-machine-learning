{
 "cells": [
  {
   "cell_type": "markdown",
   "id": "40056538-dad1-4361-9b9f-a515ec76f476",
   "metadata": {
    "tags": []
   },
   "source": [
    "# 1. IMPORTS"
   ]
  },
  {
   "cell_type": "code",
   "execution_count": 5,
   "id": "158b2025-48e7-4bb0-8960-98987e927f64",
   "metadata": {},
   "outputs": [],
   "source": [
    "from sklearn import datasets\n",
    "from sklearn import linear_model\n",
    "from sklearn import model_selection\n",
    "from sklearn import metrics \n",
    "from matplotlib import pyplot as plt"
   ]
  },
  {
   "cell_type": "markdown",
   "id": "32e81600-c331-4c11-ad5b-8b6fc3b729bf",
   "metadata": {
    "tags": []
   },
   "source": [
    "# 2. CREATE DATA"
   ]
  },
  {
   "cell_type": "code",
   "execution_count": 4,
   "id": "df1c35d8-c05b-456c-8316-150b07598198",
   "metadata": {},
   "outputs": [],
   "source": [
    "X, y = datasets.make_classification(n_samples=1000, n_classes=2, n_features=4, random_state=0)"
   ]
  },
  {
   "cell_type": "markdown",
   "id": "4f0c8435-5d8d-4c64-b84e-1484dc640437",
   "metadata": {},
   "source": [
    "# 3. TRAIN MODEL"
   ]
  },
  {
   "cell_type": "code",
   "execution_count": 7,
   "id": "4d4ea37d-e17a-4050-aa50-3d4db5f5610a",
   "metadata": {},
   "outputs": [],
   "source": [
    "# Train/Test split\n",
    "X_train, X_test, y_train, y_test = model_selection.train_test_split(X, y, test_size=0.2, random_state=0)"
   ]
  },
  {
   "cell_type": "code",
   "execution_count": 18,
   "id": "dc49e297-2142-4c83-ae8f-e260760feabe",
   "metadata": {},
   "outputs": [
    {
     "data": {
      "text/plain": [
       "0.9835588972431077"
      ]
     },
     "execution_count": 18,
     "metadata": {},
     "output_type": "execute_result"
    }
   ],
   "source": [
    "# Define\n",
    "model = linear_model.LogisticRegression(solver='lbfgs')\n",
    "\n",
    "# Fit\n",
    "model.fit(X_train, y_train)\n",
    "\n",
    "# Predict\n",
    "yhat_test = model.predict_proba(X_test)\n",
    "yhat_test = yhat_test[:, 1]\n",
    "\n",
    "# ROC curve\n",
    "fpr, tpr, thresholds = metrics.roc_curve(y_test, yhat_test)\n",
    "\n",
    "# Caalculate AUC\n",
    "roc_auc = metrics.auc(fpr, tpr)\n",
    "roc_auc"
   ]
  },
  {
   "cell_type": "code",
   "execution_count": 22,
   "id": "612367cd-e60d-4d6a-bc9b-cb889e51f879",
   "metadata": {},
   "outputs": [
    {
     "data": {
      "image/png": "[encoded data removed]",
      "text/plain": [
       "<Figure size 640x480 with 1 Axes>"
      ]
     },
     "metadata": {},
     "output_type": "display_data"
    }
   ],
   "source": [
    "# Plot roc curve\n",
    "plt.plot(fpr, tpr, marker='.', label='Model(AUC = %0.2f)' % roc_auc)\n",
    "plt.xlabel('fpr')\n",
    "plt.ylabel('tpr')\n",
    "plt.legend()\n",
    "plt.show()"
   ]
  },
  {
   "cell_type": "code",
   "execution_count": null,
   "id": "4510cb4e-738e-4eae-a73d-24d82dff3a93",
   "metadata": {},
   "outputs": [],
   "source": []
  }
 ],
 "metadata": {
  "kernelspec": {
   "display_name": "Python 3 (ipykernel)",
   "language": "python",
   "name": "python3"
  },
  "language_info": {
   "codemirror_mode": {
    "name": "ipython",
    "version": 3
   },
   "file_extension": ".py",
   "mimetype": "text/x-python",
   "name": "python",
   "nbconvert_exporter": "python",
   "pygments_lexer": "ipython3",
   "version": "3.11.1"
  }
 },
 "nbformat": 4,
 "nbformat_minor": 5
}
