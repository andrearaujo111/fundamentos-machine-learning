{
 "cells": [
  {
   "cell_type": "markdown",
   "id": "be0468f6",
   "metadata": {},
   "source": [
    "# 1. IMPORTS"
   ]
  },
  {
   "cell_type": "code",
   "execution_count": 1,
   "id": "31de9d5f-b231-4f5f-a60e-b5fbd69b1008",
   "metadata": {
    "ExecuteTime": {
     "end_time": "2023-04-01T15:29:48.300323Z",
     "start_time": "2023-04-01T15:29:46.332155Z"
    }
   },
   "outputs": [],
   "source": [
    "import pandas as pd\n",
    "import numpy as np\n",
    "import seaborn as sns\n",
    "from sklearn import model_selection\n",
    "from sklearn import datasets\n",
    "from sklearn import tree\n",
    "from sklearn import metrics\n",
    "from sklearn.neighbors import KNeighborsClassifier\n",
    "from sklearn.preprocessing import LabelBinarizer\n",
    "from matplotlib import pyplot as plt"
   ]
  },
  {
   "cell_type": "markdown",
   "id": "dd9f32ff",
   "metadata": {},
   "source": [
    "# 2. Classification"
   ]
  },
  {
   "cell_type": "code",
   "execution_count": 2,
   "id": "3395ae85-25e1-4587-b8f5-a816ae2da2ca",
   "metadata": {
    "ExecuteTime": {
     "end_time": "2023-04-01T15:32:28.756889Z",
     "start_time": "2023-04-01T15:32:28.727023Z"
    }
   },
   "outputs": [],
   "source": [
    "# load data\n",
    "data = datasets.load_iris(as_frame=True)\n",
    "\n",
    "# Separate predictor and trget variables\n",
    "X = data.data\n",
    "y = data.target\n",
    "\n",
    "# Train/Test split\n",
    "X_train, X_test, y_train, y_test = model_selection.train_test_split(X, y, test_size=0.2)"
   ]
  },
  {
   "cell_type": "markdown",
   "id": "cf400fde-1855-4400-a1e0-fdbbfd25f946",
   "metadata": {},
   "source": [
    "## 2.1 Iris Dataset"
   ]
  },
  {
   "cell_type": "markdown",
   "id": "54759317-3341-4a3b-8765-89f757685626",
   "metadata": {},
   "source": [
    "### 2.1 KNN"
   ]
  },
  {
   "cell_type": "code",
   "execution_count": 4,
   "id": "5af29a04-782c-42ef-8f45-44aa4958b3d1",
   "metadata": {},
   "outputs": [
    {
     "name": "stdout",
     "output_type": "stream",
     "text": [
      "our positive label is: setosa\n"
     ]
    }
   ],
   "source": [
    "# Define\n",
    "k_classifier = KNeighborsClassifier(n_neighbors=5)\n",
    "\n",
    "# Fit\n",
    "k_classifier.fit(X_train, y_train)\n",
    "\n",
    "# Predict \n",
    "yhat_test = k_classifier.predict_proba(X_test)\n",
    "\n",
    "# Which classe is this one?\n",
    "class_of_interest = data.target_names[0]\n",
    "print(f'our positive label is: {class_of_interest}')"
   ]
  },
  {
   "cell_type": "markdown",
   "id": "3dfeb842-916f-44b9-9918-8b69c7ee8d73",
   "metadata": {},
   "source": [
    "Since we have a multiclass problem, we we will use the one vs rest strategy, which consists in create one ROC curve for each class, where we binarize the other classes which is not the one that we are targeting."
   ]
  },
  {
   "cell_type": "code",
   "execution_count": 5,
   "id": "afd3af0d-223c-4ef1-ad3d-56064cc4db2f",
   "metadata": {},
   "outputs": [
    {
     "data": {
      "text/plain": [
       "{0: 'setosa', 1: 'versicolor', 2: 'virginica'}"
      ]
     },
     "execution_count": 5,
     "metadata": {},
     "output_type": "execute_result"
    }
   ],
   "source": [
    "target_dict = dict(zip(k_classifier.classes_, data.target_names))\n",
    "target_dict"
   ]
  },
  {
   "cell_type": "code",
   "execution_count": 6,
   "id": "d1393779-20bc-46e9-85a3-08caadd8fdde",
   "metadata": {},
   "outputs": [],
   "source": [
    "df_aux = X_test.copy()\n",
    "\n",
    "df_aux['class'] = y_test.apply(lambda x: 1 if x == 0 else 0)\n",
    "df_aux['prob'] = [for i in y_test]"
   ]
  },
  {
   "cell_type": "code",
   "execution_count": null,
   "id": "40d347d8-2816-4722-874d-e1e504fe8f19",
   "metadata": {},
   "outputs": [],
   "source": [
    "target_dict = dict(zip(k_classifier.classes_, data.target_names))\n",
    "\n",
    "# Set figure size\n",
    "plt.figure(figsize=(20, 12))\n",
    "\n",
    "# Create a set of bins, from 0 to 1, with intervals of 0.05\n",
    "bins = [i/20 for i in range (20)] + [1]\n",
    "\n",
    "# define classes\n",
    "classes = k_classifier.classes_\n",
    "\n",
    "# Will save the results\n",
    "roc_auc_ovr = []\n",
    "\n",
    "for i in range(len(classes)):\n",
    "  \n",
    "  # get the class\n",
    "  c = classes[i]\n",
    "\n",
    "  # prepares an auxiliar dataframe to help with the plots\n",
    "  df_aux = X_test.copy()\n",
    "  df_aux['class'] = [1 if y == c else 0 for y in y_test] \n",
    "  df_aux['proba'] = yhat_test[:, i]\n",
    "\n",
    "  # plots the probability distribution\n",
    "  ax = plt.subplot(2, 3, i+1)\n",
    "  sns.histplot(x='proba', data=df_aux, ax=ax, hue='class', bins=bins, color='b')\n",
    "  ax.set_title(target_dict[c])\n",
    "  ax.legend([f'class: {target_dict[c]}', 'rest'])\n",
    "\n",
    "  # Calculates the ROC Coordinates and plots the ROC Curves\n",
    "  ax_bottom = plt.subplot(2, 3, i+4)\n",
    "  tpr, fpr, th = metrics.roc_curve(df_aux['class'], df_aux['proba'])\n",
    "  plt.plot(tpr, fpr)\n",
    "  \n",
    "  # Use euclidian distance to find the distances from tpr/fpr until to 1 intersection\n",
    "  distances = np.sqrt(((1 - tpr)**2) + (fpr ** 2))\n",
    "  \n",
    "  # Find the best threshold\n",
    "  best_th = th[np.argmin(distances)]\n",
    "\n",
    "  roc_auc_ovr.append(best_th)"
   ]
  },
  {
   "cell_type": "code",
   "execution_count": null,
   "id": "b31af147-5e96-45c2-9999-36b48be8f1be",
   "metadata": {},
   "outputs": [],
   "source": [
    "roc_auc_ovr"
   ]
  },
  {
   "cell_type": "code",
   "execution_count": null,
   "id": "0f3bc6ac-2646-4823-8bd8-5bf2c268a285",
   "metadata": {},
   "outputs": [],
   "source": []
  }
 ],
 "metadata": {
  "kernelspec": {
   "display_name": "Python 3 (ipykernel)",
   "language": "python",
   "name": "python3"
  },
  "language_info": {
   "codemirror_mode": {
    "name": "ipython",
    "version": 3
   },
   "file_extension": ".py",
   "mimetype": "text/x-python",
   "name": "python",
   "nbconvert_exporter": "python",
   "pygments_lexer": "ipython3",
   "version": "3.11.1"
  },
  "varInspector": {
   "cols": {
    "lenName": 16,
    "lenType": 16,
    "lenVar": 40
   },
   "kernels_config": {
    "python": {
     "delete_cmd_postfix": "",
     "delete_cmd_prefix": "del ",
     "library": "var_list.py",
     "varRefreshCmd": "print(var_dic_list())"
    },
    "r": {
     "delete_cmd_postfix": ") ",
     "delete_cmd_prefix": "rm(",
     "library": "var_list.r",
     "varRefreshCmd": "cat(var_dic_list()) "
    }
   },
   "types_to_exclude": [
    "module",
    "function",
    "builtin_function_or_method",
    "instance",
    "_Feature"
   ],
   "window_display": false
  }
 },
 "nbformat": 4,
 "nbformat_minor": 5
}
